{
 "cells": [
  {
   "cell_type": "code",
   "execution_count": 4,
   "metadata": {},
   "outputs": [],
   "source": [
    "from pymongo import MongoClient\n",
    "import os\n",
    "import bson\n",
    "\n",
    "def mongoCollection(connstr, db, collection):\n",
    "    client = MongoClient(connstr)\n",
    "    db = client[db]\n",
    "    return db[collection]\n",
    "\n",
    "import re\n",
    "import datetime\n",
    "\n",
    "collection = mongoCollection(os.environ.get('MONGODB_CONN_STR'), 'smsinfo', 'transactions')\n",
    "\n",
    "from IPython.display import HTML, display\n",
    "import tabulate\n",
    "\n",
    "def extract_transactions(i):\n",
    "    keys = ['expense_amount', 'payment_mode', 'merchant', 'datetime', 'category', 'sub_category']\n",
    "#     return list(i[1]['transaction'].values()) + [str(i[1]['_id'])]\n",
    "    return [i[1]['transaction'].get(key, None) for key in keys] + [str(i[1]['_id'])]\n",
    "\n",
    "def mark_duplicate(collection, _id):\n",
    "    result = collection.update_one({'_id': bson.ObjectId(_id)}, {'$set' : {'status': {'duplicate': True}}})\n",
    "    print('success' if result.modified_count == 1 else 'failed')\n",
    "    return result\n",
    "\n",
    "def add_category_info(collection, _id, category='', sub_category=''):\n",
    "    result = collection.update_one(\n",
    "        {'_id': bson.ObjectId(_id)}, \n",
    "        {'$set' : {'transaction.category': category, 'transaction.sub_category': sub_category}})\n",
    "    print('success' if result.modified_count == 1 else 'failed')\n",
    "    return result"
   ]
  },
  {
   "cell_type": "code",
   "execution_count": 5,
   "metadata": {},
   "outputs": [],
   "source": [
    "year = 2020\n",
    "month = 2\n",
    "\n",
    "next_month = 1 if month == 12 else month + 1\n",
    "next_year = year + 1 if month == 12 else year\n",
    "\n",
    "monthly = list(enumerate(collection.find({'status': {'analysis_done': True},\n",
    "                 'transaction.datetime' : {\n",
    "                     '$gte': datetime.datetime(year,month,1), '$lt': datetime.datetime(next_year,next_month,1)}\n",
    "                  }, {'transaction': 1})))\n",
    "\n",
    "monthly_transactions = list(map(extract_transactions, monthly))"
   ]
  },
  {
   "cell_type": "code",
   "execution_count": 6,
   "metadata": {},
   "outputs": [
    {
     "data": {
      "text/html": [
       "<table>\n",
       "<tbody>\n",
       "<tr><td style=\"text-align: right;\">  500   </td><td>CREDIT Card xx3690</td><td>PAYTM                                 </td><td>2020-02-02 20:44:58</td><td>        </td><td>         </td><td>5e3a783285ce1ed04ce1b6c3</td></tr>\n",
       "<tr><td style=\"text-align: right;\">  465.5 </td><td>CREDIT Card xx3690</td><td>FRESHTOH3631510                       </td><td>2020-02-02 20:42:47</td><td>        </td><td>         </td><td>5e3a783285ce1ed04ce1b6c4</td></tr>\n",
       "<tr><td style=\"text-align: right;\">  465.5 </td><td>CREDIT Card xx3690</td><td>FRESHTOH3631510 in BANGALORE          </td><td>2020-02-02 20:42:48</td><td>        </td><td>         </td><td>5e3a783285ce1ed04ce1b6c5</td></tr>\n",
       "<tr><td style=\"text-align: right;\">  400   </td><td>CREDIT Card xx3690</td><td>PAYTM3852398                          </td><td>2020-02-02 20:49:59</td><td>        </td><td>         </td><td>5e3a783285ce1ed04ce1b6c6</td></tr>\n",
       "<tr><td style=\"text-align: right;\">  199   </td><td>Debit Card xx1827 </td><td>NETFLIX ENTERTAINMENT                 </td><td>2020-02-03 19:28:14</td><td>        </td><td>         </td><td>5e3a783385ce1ed04ce1b6ca</td></tr>\n",
       "<tr><td style=\"text-align: right;\">  500   </td><td>CREDIT Card xx3690</td><td>PAYTM3852398                          </td><td>2020-02-03 23:14:18</td><td>        </td><td>         </td><td>5e3a783385ce1ed04ce1b6cb</td></tr>\n",
       "<tr><td style=\"text-align: right;\">   60   </td><td>XXX983            </td><td>bharatpe90200570491@yesbankltd        </td><td>2020-02-04 00:00:00</td><td>        </td><td>         </td><td>5e3a783385ce1ed04ce1b6cc</td></tr>\n",
       "<tr><td style=\"text-align: right;\">   60   </td><td>XXX983            </td><td>bharatpe90200570491@yesbankltd        </td><td>2020-02-06 00:00:00</td><td>        </td><td>         </td><td>5e3e5b35dd2322b0ad5cccf7</td></tr>\n",
       "<tr><td style=\"text-align: right;\"> 1514.37</td><td>CREDIT Card xx3690</td><td>www.bigbasket.                        </td><td>2020-02-06 22:08:21</td><td>        </td><td>         </td><td>5e3e5b35dd2322b0ad5cccfa</td></tr>\n",
       "<tr><td style=\"text-align: right;\">  588   </td><td>CREDIT Card xx3690</td><td>MYNTRA72883                           </td><td>2020-02-06 22:50:28</td><td>        </td><td>         </td><td>5e3e5b35dd2322b0ad5cccfc</td></tr>\n",
       "<tr><td style=\"text-align: right;\">  606   </td><td>CREDIT Card xx3690</td><td>FRESHTOH3631510                       </td><td>2020-02-07 10:39:43</td><td>        </td><td>         </td><td>5e3e5b35dd2322b0ad5cccff</td></tr>\n",
       "<tr><td style=\"text-align: right;\">  606   </td><td>CREDIT Card xx3690</td><td>FRESHTOH3631510 in BANGALORE          </td><td>2020-02-07 10:39:44</td><td>        </td><td>         </td><td>5e3e5b35dd2322b0ad5ccd00</td></tr>\n",
       "<tr><td style=\"text-align: right;\"> 1204.35</td><td>CREDIT Card xx3690</td><td>AJIO                                  </td><td>2020-02-07 11:22:23</td><td>        </td><td>         </td><td>5e3e5b36dd2322b0ad5ccd02</td></tr>\n",
       "<tr><td style=\"text-align: right;\">  136   </td><td>XXX983            </td><td>zomato@hdfcbank                       </td><td>2020-02-08 00:00:00</td><td>        </td><td>         </td><td>5e40f96a637cbe765df7dd7c</td></tr>\n",
       "<tr><td style=\"text-align: right;\">  212   </td><td>CREDIT Card xx3690</td><td>SWIGGY                                </td><td>2020-02-10 10:09:35</td><td>        </td><td>         </td><td>5e4255e6112fba20f1b03b67</td></tr>\n",
       "<tr><td style=\"text-align: right;\">  200   </td><td>CREDIT Card xx3690</td><td>SWIGGY                                </td><td>2020-02-10 20:54:05</td><td>        </td><td>         </td><td>5e4255e6112fba20f1b03b6a</td></tr>\n",
       "<tr><td style=\"text-align: right;\">  404   </td><td>CREDIT Card xx3690</td><td>SWIGGY                                </td><td>2020-02-10 22:37:50</td><td>        </td><td>         </td><td>5e4255e7112fba20f1b03b6c</td></tr>\n",
       "<tr><td style=\"text-align: right;\">  610   </td><td>CREDIT Card xx3690</td><td>..MATTO COFFEA_                       </td><td>2020-02-11 16:54:42</td><td>        </td><td>         </td><td>5e46a6ab435652b77cb5c01d</td></tr>\n",
       "<tr><td style=\"text-align: right;\">  280   </td><td>XXX983            </td><td>vijualoor@okhdfcbank                  </td><td>2020-02-11 00:00:00</td><td>        </td><td>         </td><td>5e46a6ab435652b77cb5c01e</td></tr>\n",
       "<tr><td style=\"text-align: right;\">   80   </td><td>XXX983            </td><td>bharatpe90200570491@yesbankltd        </td><td>2020-02-13 00:00:00</td><td>        </td><td>         </td><td>5e46a6ab435652b77cb5c023</td></tr>\n",
       "<tr><td style=\"text-align: right;\">  757   </td><td>CREDIT Card xx3690</td><td>NEW FRUIT LAND                        </td><td>2020-02-13 17:53:10</td><td>        </td><td>         </td><td>5e46a6ab435652b77cb5c024</td></tr>\n",
       "<tr><td style=\"text-align: right;\"> 1700   </td><td>CREDIT Card xx3690</td><td>HINDUSTAN PETROLEUM CO                </td><td>2020-02-13 18:08:16</td><td>        </td><td>         </td><td>5e46a6ab435652b77cb5c025</td></tr>\n",
       "<tr><td style=\"text-align: right;\">   65   </td><td>PAYTM             </td><td>Paratha Corner                        </td><td>2020-02-01 20:32:01</td><td>        </td><td>         </td><td>5e46a93d3fdf437c9b43e2f3</td></tr>\n",
       "<tr><td style=\"text-align: right;\">   90.6 </td><td>PAYTM             </td><td>UBER                                  </td><td>2020-02-01 22:57:31</td><td>        </td><td>         </td><td>5e46a93d3fdf437c9b43e2f4</td></tr>\n",
       "<tr><td style=\"text-align: right;\">  102.96</td><td>PAYTM             </td><td>UBER                                  </td><td>2020-02-03 15:53:25</td><td>        </td><td>         </td><td>5e46a93d3fdf437c9b43e2f5</td></tr>\n",
       "<tr><td style=\"text-align: right;\">  115.93</td><td>PAYTM             </td><td>UBER                                  </td><td>2020-02-06 11:15:06</td><td>        </td><td>         </td><td>5e46a93d3fdf437c9b43e2f6</td></tr>\n",
       "<tr><td style=\"text-align: right;\">   80   </td><td>PAYTM             </td><td>Solanki medicals                      </td><td>2020-02-06 22:56:34</td><td>        </td><td>         </td><td>5e46a93d3fdf437c9b43e2f7</td></tr>\n",
       "<tr><td style=\"text-align: right;\">  106.76</td><td>PAYTM             </td><td>UBER                                  </td><td>2020-02-10 11:33:28</td><td>        </td><td>         </td><td>5e46a93d3fdf437c9b43e2fa</td></tr>\n",
       "<tr><td style=\"text-align: right;\">   79   </td><td>PAYTM             </td><td>Bharti Airtel Limited                 </td><td>2020-02-13 18:55:27</td><td>        </td><td>         </td><td>5e46a93e3fdf437c9b43e2fd</td></tr>\n",
       "<tr><td style=\"text-align: right;\"> 1249.56</td><td>CREDIT Card xx3690</td><td>PAYTM                                 </td><td>2020-02-14 14:44:35</td><td>        </td><td>         </td><td>5e48f14c4dd52adb3fc0c9e8</td></tr>\n",
       "<tr><td style=\"text-align: right;\"> 2198.39</td><td>CREDIT Card xx3690</td><td>www.bigbasket.                        </td><td>2020-02-14 16:34:16</td><td>        </td><td>         </td><td>5e48f14c4dd52adb3fc0c9ea</td></tr>\n",
       "<tr><td style=\"text-align: right;\"> 1350   </td><td>CREDIT Card xx3690</td><td>Instapay BBPS                         </td><td>2020-02-14 20:46:27</td><td>        </td><td>         </td><td>5e48f14c4dd52adb3fc0c9eb</td></tr>\n",
       "<tr><td style=\"text-align: right;\">  869.4 </td><td>CREDIT Card xx3690</td><td>www.ebharatgas.com                    </td><td>2020-02-14 21:09:34</td><td>utility </td><td>gas      </td><td>5e48f14c4dd52adb3fc0c9ee</td></tr>\n",
       "<tr><td style=\"text-align: right;\">16679   </td><td>CREDIT Card xx3690</td><td>LIC                                   </td><td>2020-02-15 11:39:04</td><td>        </td><td>         </td><td>5e48f14d4dd52adb3fc0c9f1</td></tr>\n",
       "<tr><td style=\"text-align: right;\">  428   </td><td>CREDIT Card xx3690</td><td>FRESHTOH3631510 in BANGALORE          </td><td>2020-02-15 16:46:51</td><td>        </td><td>         </td><td>5e48f14d4dd52adb3fc0c9f7</td></tr>\n",
       "<tr><td style=\"text-align: right;\">  428   </td><td>CREDIT Card xx3690</td><td>FRESHTOH3631510                       </td><td>2020-02-15 16:46:50</td><td>        </td><td>         </td><td>5e48f14d4dd52adb3fc0c9f8</td></tr>\n",
       "<tr><td style=\"text-align: right;\">  500   </td><td>CREDIT Card xx3690</td><td>PAYTM                                 </td><td>2020-02-15 16:48:57</td><td>        </td><td>         </td><td>5e48f14d4dd52adb3fc0c9fa</td></tr>\n",
       "<tr><td style=\"text-align: right;\">  599   </td><td>CREDIT Card xx3690</td><td>SWIGGY                                </td><td>2020-02-15 19:04:46</td><td>        </td><td>         </td><td>5e48f14d4dd52adb3fc0c9ff</td></tr>\n",
       "<tr><td style=\"text-align: right;\">  175.25</td><td>CREDIT Card xx3690</td><td>ZOMATO11120                           </td><td>2020-02-15 19:15:23</td><td>        </td><td>         </td><td>5e48f14e4dd52adb3fc0ca01</td></tr>\n",
       "<tr><td style=\"text-align: right;\"> 1155   </td><td>CREDIT Card xx3690</td><td>..RAJDHANI PHOENIX_                   </td><td>2020-02-16 15:02:13</td><td>        </td><td>         </td><td>5e497fb75bc90c80c1c82a7f</td></tr>\n",
       "<tr><td style=\"text-align: right;\">  536   </td><td>CREDIT Card xx3690</td><td>H M LEISURE                           </td><td>2020-02-16 16:04:08</td><td>purchase</td><td>toys     </td><td>5e497fb75bc90c80c1c82a81</td></tr>\n",
       "<tr><td style=\"text-align: right;\">   80   </td><td>CREDIT Card xx3690</td><td>PHOENIX MARKETCITY BAN                </td><td>2020-02-16 16:47:20</td><td>auto    </td><td>parking  </td><td>5e497fb75bc90c80c1c82a82</td></tr>\n",
       "<tr><td style=\"text-align: right;\">  187   </td><td>CREDIT Card xx3690</td><td>SWIGGY                                </td><td>2020-02-16 17:30:19</td><td>        </td><td>         </td><td>5e4c15864d76059dbcf77825</td></tr>\n",
       "<tr><td style=\"text-align: right;\">  500   </td><td>CREDIT Card xx3690</td><td>PAYTM                                 </td><td>2020-02-17 20:29:54</td><td>        </td><td>         </td><td>5e4c15874d76059dbcf7782e</td></tr>\n",
       "<tr><td style=\"text-align: right;\">  200   </td><td>PAYTM             </td><td>The lassi club                        </td><td>2020-02-17 21:11:53</td><td>        </td><td>         </td><td>5e4c15874d76059dbcf77831</td></tr>\n",
       "<tr><td style=\"text-align: right;\">  162   </td><td>CREDIT Card xx3690</td><td>SWIGGY                                </td><td>2020-02-19 14:03:13</td><td>        </td><td>         </td><td>5e50de58a8ef7cb503f2d330</td></tr>\n",
       "<tr><td style=\"text-align: right;\"> 1098   </td><td>CREDIT Card xx3690</td><td>NEW FRUIT LAND                        </td><td>2020-02-19 17:46:32</td><td>        </td><td>         </td><td>5e50de58a8ef7cb503f2d332</td></tr>\n",
       "<tr><td style=\"text-align: right;\">  353   </td><td>CREDIT Card xx3690</td><td>SWIGGY                                </td><td>2020-02-19 18:54:46</td><td>        </td><td>         </td><td>5e50de58a8ef7cb503f2d334</td></tr>\n",
       "<tr><td style=\"text-align: right;\">  360   </td><td>CREDIT Card xx3690</td><td>AMAZON                                </td><td>2020-02-19 23:31:34</td><td>purchase</td><td>household</td><td>5e50de58a8ef7cb503f2d335</td></tr>\n",
       "<tr><td style=\"text-align: right;\">  212   </td><td>CREDIT Card xx3690</td><td>AARKITHA                              </td><td>2020-02-20 11:54:34</td><td>personal</td><td>haircut  </td><td>5e50de59a8ef7cb503f2d33c</td></tr>\n",
       "<tr><td style=\"text-align: right;\">  125   </td><td>CREDIT Card xx3690</td><td>M K RETAIL                            </td><td>2020-02-20 12:01:08</td><td>        </td><td>         </td><td>5e50de59a8ef7cb503f2d33d</td></tr>\n",
       "<tr><td style=\"text-align: right;\">  860   </td><td>CREDIT Card xx3690</td><td>PEPPERFRY64213                        </td><td>2020-02-20 22:48:42</td><td>        </td><td>         </td><td>5e50de5aa8ef7cb503f2d340</td></tr>\n",
       "<tr><td style=\"text-align: right;\">  430   </td><td>CREDIT Card xx3690</td><td>SWIGGY                                </td><td>2020-02-21 20:58:01</td><td>        </td><td>         </td><td>5e5157fb52301203a756d1fe</td></tr>\n",
       "<tr><td style=\"text-align: right;\"> 5605   </td><td>CREDIT Card xx3690</td><td>AARKITHA                              </td><td>2020-02-22 12:09:36</td><td>personal</td><td>haircut  </td><td>5e5157fb52301203a756d1ff</td></tr>\n",
       "<tr><td style=\"text-align: right;\"> 1784.3 </td><td>CREDIT Card xx3690</td><td>www.bigbasket.                        </td><td>2020-02-23 10:27:26</td><td>        </td><td>         </td><td>5e535c42cd4ca37f9ee811b1</td></tr>\n",
       "<tr><td style=\"text-align: right;\">  561.5 </td><td>CREDIT Card xx3690</td><td>Freshtohome                           </td><td>2020-02-23 21:07:01</td><td>        </td><td>         </td><td>5e535c43cd4ca37f9ee811b3</td></tr>\n",
       "<tr><td style=\"text-align: right;\"> 1833   </td><td>CREDIT Card xx3690</td><td>..ARENA_                              </td><td>2020-02-23 22:10:16</td><td>        </td><td>         </td><td>5e535c43cd4ca37f9ee811b4</td></tr>\n",
       "<tr><td style=\"text-align: right;\">  111   </td><td>PAYTM             </td><td>Eat Fit                               </td><td>2020-02-24 08:55:37</td><td>        </td><td>         </td><td>5e535c43cd4ca37f9ee811b8</td></tr>\n",
       "<tr><td style=\"text-align: right;\">  136   </td><td>PAYTM             </td><td>Eat Fit                               </td><td>2020-02-24 17:45:46</td><td>        </td><td>         </td><td>5e58bc830f2926acec7e6574</td></tr>\n",
       "<tr><td style=\"text-align: right;\">  187   </td><td>PAYTM             </td><td>Eat Fit                               </td><td>2020-02-24 17:50:47</td><td>        </td><td>         </td><td>5e58bc830f2926acec7e6575</td></tr>\n",
       "<tr><td style=\"text-align: right;\"> 1049   </td><td>CREDIT Card xx3690</td><td>NEW FRUITLAND                         </td><td>2020-02-25 17:29:17</td><td>        </td><td>         </td><td>5e58bc840f2926acec7e6578</td></tr>\n",
       "<tr><td style=\"text-align: right;\">  118   </td><td>PAYTM             </td><td>Eat Fit                               </td><td>2020-02-25 18:57:27</td><td>        </td><td>         </td><td>5e58bc840f2926acec7e6579</td></tr>\n",
       "<tr><td style=\"text-align: right;\">  324.5 </td><td>CREDIT Card xx3690</td><td>www.zomato.com                        </td><td>2020-02-25 19:12:18</td><td>        </td><td>         </td><td>5e58bc840f2926acec7e657b</td></tr>\n",
       "<tr><td style=\"text-align: right;\">   10   </td><td>XXX983            </td><td>q22904860@ybl                         </td><td>2020-02-26 00:00:00</td><td>        </td><td>         </td><td>5e58bc840f2926acec7e657d</td></tr>\n",
       "<tr><td style=\"text-align: right;\"> 1700   </td><td>CREDIT Card xx3690</td><td>HPCL HINDUSTAN PETROLE                </td><td>2020-02-26 17:32:48</td><td>        </td><td>         </td><td>5e58bc840f2926acec7e657f</td></tr>\n",
       "<tr><td style=\"text-align: right;\">  191   </td><td>PAYTM             </td><td>Eat Fit                               </td><td>2020-02-26 20:10:16</td><td>        </td><td>         </td><td>5e58bc840f2926acec7e6580</td></tr>\n",
       "<tr><td style=\"text-align: right;\">  415   </td><td>CREDIT Card xx3690</td><td>SWIGGYXL3549786                       </td><td>2020-02-27 20:35:28</td><td>        </td><td>         </td><td>5e58bc850f2926acec7e6583</td></tr>\n",
       "<tr><td style=\"text-align: right;\">   60   </td><td>XXX983            </td><td>bharatpe90200570491@yesbankltd        </td><td>2020-02-04 00:00:00</td><td>        </td><td>         </td><td>5e5938d31de5cf9e9a460972</td></tr>\n",
       "<tr><td style=\"text-align: right;\">  168   </td><td>XXX983            </td><td>bharatpe.9040576993@icici             </td><td>2020-02-04 00:00:00</td><td>        </td><td>         </td><td>5e5938d31de5cf9e9a460973</td></tr>\n",
       "<tr><td style=\"text-align: right;\">   60   </td><td>XXX983            </td><td>bharatpe90200570491@yesbankltd        </td><td>2020-02-06 00:00:00</td><td>        </td><td>         </td><td>5e5938d31de5cf9e9a460974</td></tr>\n",
       "<tr><td style=\"text-align: right;\">  136   </td><td>XXX983            </td><td>zomato@hdfcbank                       </td><td>2020-02-08 00:00:00</td><td>        </td><td>         </td><td>5e5938d31de5cf9e9a460976</td></tr>\n",
       "<tr><td style=\"text-align: right;\">  280   </td><td>XXX983            </td><td>vijualoor@okhdfcbank                  </td><td>2020-02-11 00:00:00</td><td>        </td><td>         </td><td>5e5938d31de5cf9e9a460978</td></tr>\n",
       "<tr><td style=\"text-align: right;\">   80   </td><td>XXX983            </td><td>bharatpe90200570491@yesbankltd        </td><td>2020-02-13 00:00:00</td><td>        </td><td>         </td><td>5e5938d41de5cf9e9a46097b</td></tr>\n",
       "<tr><td style=\"text-align: right;\"> 1709.1 </td><td>XXX983            </td><td>amazonsellerservices.98397377@hdfcbank</td><td>2020-02-13 00:00:00</td><td>        </td><td>         </td><td>5e5938d41de5cf9e9a46097c</td></tr>\n",
       "<tr><td style=\"text-align: right;\">  210   </td><td>XXX983            </td><td>bharatpe09600003315¡yesbankltd        </td><td>2020-02-18 00:00:00</td><td>        </td><td>         </td><td>5e5938d41de5cf9e9a46097d</td></tr>\n",
       "<tr><td style=\"text-align: right;\">   70   </td><td>XXX983            </td><td>bharatpe90200570491¡yesbankltd        </td><td>2020-02-19 00:00:00</td><td>        </td><td>         </td><td>5e5938d41de5cf9e9a46097e</td></tr>\n",
       "<tr><td style=\"text-align: right;\">   70   </td><td>XXX983            </td><td>cru5ty.d3m0nx-2@okhdfcbank            </td><td>2020-02-25 00:00:00</td><td>        </td><td>         </td><td>5e5938d41de5cf9e9a46097f</td></tr>\n",
       "<tr><td style=\"text-align: right;\">   10   </td><td>XXX983            </td><td>q22904860@ybl                         </td><td>2020-02-26 00:00:00</td><td>        </td><td>         </td><td>5e5938d41de5cf9e9a460980</td></tr>\n",
       "</tbody>\n",
       "</table>"
      ],
      "text/plain": [
       "<IPython.core.display.HTML object>"
      ]
     },
     "metadata": {},
     "output_type": "display_data"
    }
   ],
   "source": [
    "display(HTML(tabulate.tabulate(monthly_transactions, tablefmt='html')))"
   ]
  },
  {
   "cell_type": "markdown",
   "metadata": {},
   "source": [
    "#feb-2020 message.date > 602238600089916032\n",
    "\n",
    "`add_category_info(collection, '5e497fb75bc90c80c1c82a81', category='purchase', sub_category='toys')`"
   ]
  },
  {
   "cell_type": "code",
   "execution_count": null,
   "metadata": {},
   "outputs": [],
   "source": []
  }
 ],
 "metadata": {
  "kernelspec": {
   "display_name": "Python 3",
   "language": "python",
   "name": "python3"
  },
  "language_info": {
   "codemirror_mode": {
    "name": "ipython",
    "version": 3
   },
   "file_extension": ".py",
   "mimetype": "text/x-python",
   "name": "python",
   "nbconvert_exporter": "python",
   "pygments_lexer": "ipython3",
   "version": "3.7.4"
  }
 },
 "nbformat": 4,
 "nbformat_minor": 4
}
