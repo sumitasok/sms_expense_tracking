{
 "cells": [
  {
   "cell_type": "code",
   "execution_count": 1,
   "metadata": {},
   "outputs": [],
   "source": [
    "import pandas as pd\n",
    "from pandas.io.json._normalize import nested_to_record  \n",
    "import  math\n",
    "import os\n",
    "import bson\n",
    "from dateutil import parser\n",
    "import datetime\n",
    "\n",
    "\n",
    "from pymongo import MongoClient\n",
    "\n",
    "def mongoCollection(connstr, db, collection):\n",
    "    client = MongoClient(connstr)\n",
    "    db = client[db]\n",
    "    return db[collection]\n",
    "\n",
    "collection = mongoCollection(os.environ.get('MONGODB_CONN_STR'), 'smsinfo', 'transactions')"
   ]
  },
  {
   "cell_type": "code",
   "execution_count": 18,
   "metadata": {},
   "outputs": [
    {
     "name": "stdout",
     "output_type": "stream",
     "text": [
      "[{'_id': 'UBER', 'merchant': 'UBER', 'category': 'taxi', 'sub_category': 'uber'}, {'_id': 'Freshtohome', 'merchant': 'Freshtohome', 'category': 'grocery', 'sub_category': 'non-veg'}, {'_id': 'SWIGGY95116', 'merchant': 'SWIGGY95116', 'category': 'food', 'sub_category': 'Delivery'}, {'_id': 'SWIGGYXL3549786', 'merchant': 'SWIGGYXL3549786', 'category': 'food', 'sub_category': 'delivery'}, {'_id': 'bharatpe09600003315¡yesbankltd', 'merchant': 'bharatpe09600003315¡yesbankltd', 'category': 'food', 'sub_category': 'eating-out'}, {'_id': 'HDFCBILLPAY', 'merchant': 'HDFCBILLPAY', 'category': 'utility', 'sub_category': 'internet'}, {'_id': 'JIO Infocom', 'merchant': 'JIO Infocom', 'category': 'utility', 'sub_category': 'mobile'}, {'_id': 'NETFLIX ENTERTAINMENT', 'merchant': 'NETFLIX ENTERTAINMENT', 'category': 'subscription', 'sub_category': 'entertainment'}, {'_id': 'VPS*DROMI    .', 'merchant': 'VPS*DROMI    .', 'category': 'meet-up', 'sub_category': 'food'}, {'_id': 'Drdo', 'merchant': 'Drdo', 'category': 'grocery', 'sub_category': 'all'}, {'_id': nan, 'merchant': nan, 'category': 'utility', 'sub_category': 'Maid'}, {'_id': 'VSI*APPLE COM.', 'merchant': 'VSI*APPLE COM.', 'category': 'subscription', 'sub_category': 'apps'}, {'_id': 'AJIO', 'merchant': 'AJIO', 'category': 'purchase', 'sub_category': 'cloths'}, {'_id': 'The lassi club', 'merchant': 'The lassi club', 'category': 'food', 'sub_category': 'snacks'}, {'_id': 'VPS*HORTICULT.', 'merchant': 'VPS*HORTICULT.', 'category': 'grocery', 'sub_category': 'vegetables'}, {'_id': '..RAJDHANI PHOENIX_', 'merchant': '..RAJDHANI PHOENIX_', 'category': 'food', 'sub_category': 'eating-out'}, {'_id': 'MICROSOFT', 'merchant': 'MICROSOFT', 'category': 'None', 'sub_category': 'None'}, {'_id': 'ONE97 COMMUNICATIONS L', 'merchant': 'ONE97 COMMUNICATIONS L', 'category': 'food', 'sub_category': 'delivery'}, {'_id': 'www.zomato.com', 'merchant': 'www.zomato.com', 'category': 'food', 'sub_category': 'delivery'}, {'_id': 'BOOKMYSHOW', 'merchant': 'BOOKMYSHOW', 'category': 'entertainment', 'sub_category': 'movie'}, {'_id': 'ZOMATO11120', 'merchant': 'ZOMATO11120', 'category': 'food', 'sub_category': 'delivery'}, {'_id': 'paytmqr2810050501011f9xdbj3suxl@paytm', 'merchant': 'paytmqr2810050501011f9xdbj3suxl@paytm', 'category': 'medicine', 'sub_category': 'medicine'}, {'_id': 'FRESHTOH3631510', 'merchant': 'FRESHTOH3631510', 'category': 'grocery', 'sub_category': 'non-veg'}, {'_id': 'FRESHTOH3631510 in BANGALORE', 'merchant': 'FRESHTOH3631510 in BANGALORE', 'category': 'grocery', 'sub_category': 'non-veg'}, {'_id': 'vijualoor@okhdfcbank', 'merchant': 'vijualoor@okhdfcbank', 'category': 'others', 'sub_category': 'others'}, {'_id': 'SRI UDUPI PARK', 'merchant': 'SRI UDUPI PARK', 'category': 'food', 'sub_category': 'eating-out'}, {'_id': 'Solanki medicals', 'merchant': 'Solanki medicals', 'category': 'medical', 'sub_category': 'medicine'}, {'_id': 'VPS*PAY Sreen.', 'merchant': 'VPS*PAY Sreen.', 'category': 'meet-up', 'sub_category': 'alcohol'}, {'_id': 'Eat Fit', 'merchant': 'Eat Fit', 'category': 'food', 'sub_category': 'delivery'}, {'_id': 'HINDUSTAN PETROLEUM CO', 'merchant': 'HINDUSTAN PETROLEUM CO', 'category': 'auto', 'sub_category': 'fuel'}, {'_id': 'Innovative Retail Concept', 'merchant': 'Innovative Retail Concept', 'category': 'grocery', 'sub_category': 'all'}, {'_id': 'bharatpe90200570491¡yesbankltd', 'merchant': 'bharatpe90200570491¡yesbankltd', 'category': 'meet-up', 'sub_category': 'breakout'}, {'_id': 'IIN*Amazon   .', 'merchant': 'IIN*Amazon   .', 'category': 'purchase', 'sub_category': 'household'}, {'_id': 'MYNTRA72883', 'merchant': 'MYNTRA72883', 'category': 'purchase', 'sub_category': 'cloths'}, {'_id': 'M K RETAIL', 'merchant': 'M K RETAIL', 'category': 'grocery', 'sub_category': 'all'}, {'_id': 'PAYTM3852398', 'merchant': 'PAYTM3852398', 'category': 'None', 'sub_category': 'None'}, {'_id': 'Deepak', 'merchant': 'Deepak', 'category': 'Rent', 'sub_category': 'Rent'}, {'_id': 'www.swiggy.in', 'merchant': 'www.swiggy.in', 'category': 'food', 'sub_category': 'delivery'}, {'_id': 'PAYTM', 'merchant': 'PAYTM', 'category': 'utility', 'sub_category': 'internet'}, {'_id': 'Bharti Airtel Limited', 'merchant': 'Bharti Airtel Limited', 'category': 'utility', 'sub_category': 'mobile'}, {'_id': 'THENEWIN1262499', 'merchant': 'THENEWIN1262499', 'category': 'insurance', 'sub_category': 'Auto'}, {'_id': 'AkshayKalpa Farms and', 'merchant': 'AkshayKalpa Farms and', 'category': 'None', 'sub_category': 'None'}, {'_id': 'amazonsellerservices.98397377@hdfcbank', 'merchant': 'amazonsellerservices.98397377@hdfcbank', 'category': 'purchase', 'sub_category': 'toiletry'}, {'_id': 'HPCL HINDUSTAN PETROLE', 'merchant': 'HPCL HINDUSTAN PETROLE', 'category': 'auto', 'sub_category': 'fuel'}, {'_id': 'bharatpe90200570491@yesbankltd', 'merchant': 'bharatpe90200570491@yesbankltd', 'category': 'meet-up', 'sub_category': 'breakout'}, {'_id': 'Paratha Corner', 'merchant': 'Paratha Corner', 'category': 'food', 'sub_category': 'delivery'}, {'_id': 'PHOENIX MARKETCITY BAN', 'merchant': 'PHOENIX MARKETCITY BAN', 'category': 'auto', 'sub_category': 'parking'}, {'_id': 'AKSHAYAK3819720', 'merchant': 'AKSHAYAK3819720', 'category': 'None', 'sub_category': 'None'}, {'_id': 'zerodhabroking@hdfcbank', 'merchant': 'zerodhabroking@hdfcbank', 'category': 'None', 'sub_category': 'None'}, {'_id': 'PEPPERFRY64213', 'merchant': 'PEPPERFRY64213', 'category': 'purchase', 'sub_category': 'furniture'}, {'_id': 'LIC', 'merchant': 'LIC', 'category': 'insurance', 'sub_category': 'insurance'}, {'_id': 'cru5ty.d3m0nx-2@okhdfcbank', 'merchant': 'cru5ty.d3m0nx-2@okhdfcbank', 'category': 'others', 'sub_category': 'others'}, {'_id': 'NEW FRUITLAND', 'merchant': 'NEW FRUITLAND', 'category': 'grocery', 'sub_category': 'vegetables'}, {'_id': 'PVR LIMITED.', 'merchant': 'PVR LIMITED.', 'category': 'food', 'sub_category': 'movie'}, {'_id': '..ARENA_', 'merchant': '..ARENA_', 'category': 'food', 'sub_category': 'eating-out'}, {'_id': 'AMAZON', 'merchant': 'AMAZON', 'category': 'purchase', 'sub_category': 'household'}, {'_id': 'NEW FRUIT LAND', 'merchant': 'NEW FRUIT LAND', 'category': 'grocery', 'sub_category': 'vegetables'}, {'_id': 'Bharat Sanchar Nigam L', 'merchant': 'Bharat Sanchar Nigam L', 'category': 'utility', 'sub_category': 'Mobile'}, {'_id': 'chinjuprakasan90@okhdfcbank', 'merchant': 'chinjuprakasan90@okhdfcbank', 'category': 'None', 'sub_category': 'None'}, {'_id': 'upiswiggy@icici', 'merchant': 'upiswiggy@icici', 'category': 'food', 'sub_category': 'delivery'}, {'_id': 'H M LEISURE', 'merchant': 'H M LEISURE', 'category': 'purchase', 'sub_category': 'toys'}, {'_id': 'VIN*APPLE COM.', 'merchant': 'VIN*APPLE COM.', 'category': 'subscription', 'sub_category': 'apps'}, {'_id': 'Instapay BBPS', 'merchant': 'Instapay BBPS', 'category': 'utility', 'sub_category': 'bescom'}, {'_id': 'swiggyupi@axisbank', 'merchant': 'swiggyupi@axisbank', 'category': 'food', 'sub_category': 'delivery'}, {'_id': 'bharatpe.9040576993@icici', 'merchant': 'bharatpe.9040576993@icici', 'category': 'food', 'sub_category': 'delivery'}, {'_id': 'www.bigbasket.', 'merchant': 'www.bigbasket.', 'category': 'grocery', 'sub_category': 'all'}, {'_id': 'Newspaper', 'merchant': 'Newspaper', 'category': 'utility', 'sub_category': 'newspaper'}, {'_id': 'SWIGGY', 'merchant': 'SWIGGY', 'category': 'food', 'sub_category': 'delivery'}, {'_id': 'FIRSTCRY11847', 'merchant': 'FIRSTCRY11847', 'category': 'purchase', 'sub_category': 'cloths'}, {'_id': '..MATTO COFFEA_', 'merchant': '..MATTO COFFEA_', 'category': 'meet-up', 'sub_category': 'food'}, {'_id': 'paytmqr281005050101j1cog2ifqf2u@paytm', 'merchant': 'paytmqr281005050101j1cog2ifqf2u@paytm', 'category': 'food', 'sub_category': 'snacks'}, {'_id': 'q22904860@ybl', 'merchant': 'q22904860@ybl', 'category': 'meet-up', 'sub_category': 'breakout'}, {'_id': 'AARKITHA', 'merchant': 'AARKITHA', 'category': 'personal', 'sub_category': 'haircut'}, {'_id': 'www.ebharatgas.com', 'merchant': 'www.ebharatgas.com', 'category': 'utility', 'sub_category': 'gas'}, {'_id': 'BHARTI AIRTEL LIMITED', 'merchant': 'BHARTI AIRTEL LIMITED', 'category': 'mobile', 'sub_category': '9916027712'}, {'_id': 'Akshayakalpa', 'merchant': 'Akshayakalpa', 'category': 'grocery', 'sub_category': 'diary'}, {'_id': 'BBPSBILLPAY', 'merchant': 'BBPSBILLPAY', 'category': 'utility', 'sub_category': 'internet'}, {'_id': 'HORTICULTURE PRODUCERS', 'merchant': 'HORTICULTURE PRODUCERS', 'category': 'grocery', 'sub_category': 'vegetables'}, {'_id': 'zomato@hdfcbank', 'merchant': 'zomato@hdfcbank', 'category': 'food', 'sub_category': 'delivery'}, {'_id': 'www.dunzo.in', 'merchant': 'www.dunzo.in', 'category': 'Grocery', 'sub_category': 'All'}]\n"
     ]
    }
   ],
   "source": [
    "pipeline = [\n",
    "    {\"$match\": {\n",
    "      \"status.analysis_done\": True,\n",
    "      \"transaction.category\": {'$exists': True}\n",
    "    }},\n",
    "    {\"$sort\": {\n",
    "      'message.date': -1,\n",
    "    }},\n",
    "    {\"$project\": {\n",
    "      \"_id\": \"$transaction.merchant\",\n",
    "      \"merchant\": \"$transaction.merchant\",\n",
    "      \"category\": \"$transaction.category\",\n",
    "      \"sub_category\": \"$transaction.sub_category\"\n",
    "    }},\n",
    "    {\"$group\": {\n",
    "      '_id': '$merchant',\n",
    "      'merchant': {\n",
    "        '$last': '$merchant'\n",
    "      },\n",
    "      'category': {\n",
    "        '$last': '$category'\n",
    "      },\n",
    "      'sub_category': {\n",
    "        '$last': '$sub_category'\n",
    "      }\n",
    "    }}\n",
    "]\n",
    "\n",
    "monthly = list(collection.aggregate(pipeline))\n",
    "\n",
    "print(monthly)"
   ]
  },
  {
   "cell_type": "code",
   "execution_count": 14,
   "metadata": {},
   "outputs": [],
   "source": [
    "merchant_dict = {val['_id'] : val for idx, val in enumerate(monthly)}"
   ]
  },
  {
   "cell_type": "code",
   "execution_count": 15,
   "metadata": {},
   "outputs": [
    {
     "name": "stdout",
     "output_type": "stream",
     "text": [
      "{'AKSHAYAK3819720': {'_id': 'AKSHAYAK3819720', 'category': 'None', 'sub_category': 'None'}, 'zerodhabroking@hdfcbank': {'_id': 'zerodhabroking@hdfcbank', 'category': 'None', 'sub_category': 'None'}, 'PEPPERFRY64213': {'_id': 'PEPPERFRY64213', 'category': 'purchase', 'sub_category': 'furniture'}, 'LIC': {'_id': 'LIC', 'category': 'insurance', 'sub_category': 'insurance'}, 'cru5ty.d3m0nx-2@okhdfcbank': {'_id': 'cru5ty.d3m0nx-2@okhdfcbank', 'category': 'others', 'sub_category': 'others'}, 'NEW FRUITLAND': {'_id': 'NEW FRUITLAND', 'category': 'grocery', 'sub_category': 'vegetables'}, 'PVR LIMITED.': {'_id': 'PVR LIMITED.', 'category': 'food', 'sub_category': 'movie'}, 'bharatpe90200570491@yesbankltd': {'_id': 'bharatpe90200570491@yesbankltd', 'category': 'meet-up', 'sub_category': 'breakout'}, 'Paratha Corner': {'_id': 'Paratha Corner', 'category': 'food', 'sub_category': 'delivery'}, 'PHOENIX MARKETCITY BAN': {'_id': 'PHOENIX MARKETCITY BAN', 'category': 'auto', 'sub_category': 'parking'}, 'H M LEISURE': {'_id': 'H M LEISURE', 'category': 'purchase', 'sub_category': 'toys'}, 'VIN*APPLE COM.': {'_id': 'VIN*APPLE COM.', 'category': 'subscription', 'sub_category': 'apps'}, 'Instapay BBPS': {'_id': 'Instapay BBPS', 'category': 'utility', 'sub_category': 'bescom'}, '..ARENA_': {'_id': '..ARENA_', 'category': 'food', 'sub_category': 'eating-out'}, 'swiggyupi@axisbank': {'_id': 'swiggyupi@axisbank', 'category': 'food', 'sub_category': 'delivery'}, 'Newspaper': {'_id': 'Newspaper', 'category': 'utility', 'sub_category': 'newspaper'}, 'AMAZON': {'_id': 'AMAZON', 'category': 'purchase', 'sub_category': 'household'}, 'chinjuprakasan90@okhdfcbank': {'_id': 'chinjuprakasan90@okhdfcbank', 'category': 'None', 'sub_category': 'None'}, 'NEW FRUIT LAND': {'_id': 'NEW FRUIT LAND', 'category': 'grocery', 'sub_category': 'vegetables'}, 'Bharat Sanchar Nigam L': {'_id': 'Bharat Sanchar Nigam L', 'category': 'utility', 'sub_category': 'Mobile'}, 'upiswiggy@icici': {'_id': 'upiswiggy@icici', 'category': 'food', 'sub_category': 'delivery'}, 'paytmqr281005050101j1cog2ifqf2u@paytm': {'_id': 'paytmqr281005050101j1cog2ifqf2u@paytm', 'category': 'food', 'sub_category': 'snacks'}, 'q22904860@ybl': {'_id': 'q22904860@ybl', 'category': 'meet-up', 'sub_category': 'breakout'}, 'bharatpe.9040576993@icici': {'_id': 'bharatpe.9040576993@icici', 'category': 'food', 'sub_category': 'delivery'}, 'www.bigbasket.': {'_id': 'www.bigbasket.', 'category': 'grocery', 'sub_category': 'all'}, 'SWIGGY': {'_id': 'SWIGGY', 'category': 'food', 'sub_category': 'delivery'}, 'FIRSTCRY11847': {'_id': 'FIRSTCRY11847', 'category': 'purchase', 'sub_category': 'cloths'}, '..MATTO COFFEA_': {'_id': '..MATTO COFFEA_', 'category': 'meet-up', 'sub_category': 'food'}, 'HORTICULTURE PRODUCERS': {'_id': 'HORTICULTURE PRODUCERS', 'category': 'grocery', 'sub_category': 'vegetables'}, 'BBPSBILLPAY': {'_id': 'BBPSBILLPAY', 'category': 'utility', 'sub_category': 'internet'}, 'zomato@hdfcbank': {'_id': 'zomato@hdfcbank', 'category': 'food', 'sub_category': 'delivery'}, 'www.dunzo.in': {'_id': 'www.dunzo.in', 'category': 'Grocery', 'sub_category': 'All'}, 'UBER': {'_id': 'UBER', 'category': 'taxi', 'sub_category': 'uber'}, 'AARKITHA': {'_id': 'AARKITHA', 'category': 'personal', 'sub_category': 'haircut'}, 'www.ebharatgas.com': {'_id': 'www.ebharatgas.com', 'category': 'utility', 'sub_category': 'gas'}, 'BHARTI AIRTEL LIMITED': {'_id': 'BHARTI AIRTEL LIMITED', 'category': 'mobile', 'sub_category': '9916027712'}, 'Akshayakalpa': {'_id': 'Akshayakalpa', 'category': 'grocery', 'sub_category': 'diary'}, 'NETFLIX ENTERTAINMENT': {'_id': 'NETFLIX ENTERTAINMENT', 'category': 'subscription', 'sub_category': 'entertainment'}, 'Drdo': {'_id': 'Drdo', 'category': 'grocery', 'sub_category': 'all'}, nan: {'_id': nan, 'category': 'utility', 'sub_category': 'Maid'}, 'VSI*APPLE COM.': {'_id': 'VSI*APPLE COM.', 'category': 'subscription', 'sub_category': 'apps'}, 'AJIO': {'_id': 'AJIO', 'category': 'purchase', 'sub_category': 'cloths'}, 'Freshtohome': {'_id': 'Freshtohome', 'category': 'grocery', 'sub_category': 'non-veg'}, 'SWIGGY95116': {'_id': 'SWIGGY95116', 'category': 'food', 'sub_category': 'Delivery'}, 'SWIGGYXL3549786': {'_id': 'SWIGGYXL3549786', 'category': 'food', 'sub_category': 'delivery'}, 'bharatpe09600003315¡yesbankltd': {'_id': 'bharatpe09600003315¡yesbankltd', 'category': 'food', 'sub_category': 'eating-out'}, 'HDFCBILLPAY': {'_id': 'HDFCBILLPAY', 'category': 'utility', 'sub_category': 'internet'}, 'JIO Infocom': {'_id': 'JIO Infocom', 'category': 'utility', 'sub_category': 'mobile'}, 'BOOKMYSHOW': {'_id': 'BOOKMYSHOW', 'category': 'entertainment', 'sub_category': 'movie'}, 'ZOMATO11120': {'_id': 'ZOMATO11120', 'category': 'food', 'sub_category': 'delivery'}, 'paytmqr2810050501011f9xdbj3suxl@paytm': {'_id': 'paytmqr2810050501011f9xdbj3suxl@paytm', 'category': 'medicine', 'sub_category': 'medicine'}, 'FRESHTOH3631510 in BANGALORE': {'_id': 'FRESHTOH3631510 in BANGALORE', 'category': 'grocery', 'sub_category': 'non-veg'}, 'vijualoor@okhdfcbank': {'_id': 'vijualoor@okhdfcbank', 'category': 'others', 'sub_category': 'others'}, 'Solanki medicals': {'_id': 'Solanki medicals', 'category': 'medical', 'sub_category': 'medicine'}, 'SRI UDUPI PARK': {'_id': 'SRI UDUPI PARK', 'category': 'food', 'sub_category': 'eating-out'}, 'The lassi club': {'_id': 'The lassi club', 'category': 'food', 'sub_category': 'snacks'}, 'VPS*HORTICULT.': {'_id': 'VPS*HORTICULT.', 'category': 'grocery', 'sub_category': 'vegetables'}, 'VPS*DROMI    .': {'_id': 'VPS*DROMI    .', 'category': 'meet-up', 'sub_category': 'food'}, '..RAJDHANI PHOENIX_': {'_id': '..RAJDHANI PHOENIX_', 'category': 'food', 'sub_category': 'eating-out'}, 'www.zomato.com': {'_id': 'www.zomato.com', 'category': 'food', 'sub_category': 'delivery'}, 'ONE97 COMMUNICATIONS L': {'_id': 'ONE97 COMMUNICATIONS L', 'category': 'food', 'sub_category': 'delivery'}, 'FRESHTOH3631510': {'_id': 'FRESHTOH3631510', 'category': 'grocery', 'sub_category': 'non-veg'}, 'MICROSOFT': {'_id': 'MICROSOFT', 'category': 'None', 'sub_category': 'None'}, 'VPS*PAY Sreen.': {'_id': 'VPS*PAY Sreen.', 'category': 'meet-up', 'sub_category': 'alcohol'}, 'M K RETAIL': {'_id': 'M K RETAIL', 'category': 'grocery', 'sub_category': 'all'}, 'PAYTM3852398': {'_id': 'PAYTM3852398', 'category': 'None', 'sub_category': 'None'}, 'Deepak': {'_id': 'Deepak', 'category': 'Rent', 'sub_category': 'Rent'}, 'Eat Fit': {'_id': 'Eat Fit', 'category': 'food', 'sub_category': 'delivery'}, 'HINDUSTAN PETROLEUM CO': {'_id': 'HINDUSTAN PETROLEUM CO', 'category': 'auto', 'sub_category': 'fuel'}, 'Innovative Retail Concept': {'_id': 'Innovative Retail Concept', 'category': 'grocery', 'sub_category': 'all'}, 'AkshayKalpa Farms and': {'_id': 'AkshayKalpa Farms and', 'category': 'None', 'sub_category': 'None'}, 'bharatpe90200570491¡yesbankltd': {'_id': 'bharatpe90200570491¡yesbankltd', 'category': 'meet-up', 'sub_category': 'breakout'}, 'IIN*Amazon   .': {'_id': 'IIN*Amazon   .', 'category': 'purchase', 'sub_category': 'household'}, 'amazonsellerservices.98397377@hdfcbank': {'_id': 'amazonsellerservices.98397377@hdfcbank', 'category': 'purchase', 'sub_category': 'toiletry'}, 'MYNTRA72883': {'_id': 'MYNTRA72883', 'category': 'purchase', 'sub_category': 'cloths'}, 'HPCL HINDUSTAN PETROLE': {'_id': 'HPCL HINDUSTAN PETROLE', 'category': 'auto', 'sub_category': 'fuel'}, 'www.swiggy.in': {'_id': 'www.swiggy.in', 'category': 'food', 'sub_category': 'delivery'}, 'PAYTM': {'_id': 'PAYTM', 'category': 'utility', 'sub_category': 'internet'}, 'Bharti Airtel Limited': {'_id': 'Bharti Airtel Limited', 'category': 'utility', 'sub_category': 'mobile'}, 'THENEWIN1262499': {'_id': 'THENEWIN1262499', 'category': 'insurance', 'sub_category': 'Auto'}}\n"
     ]
    }
   ],
   "source": [
    "print(merchant_dict)"
   ]
  },
  {
   "cell_type": "code",
   "execution_count": 22,
   "metadata": {},
   "outputs": [],
   "source": [
    "def add_category_info_for_merchant(collection, merchant, category='', sub_category=''):\n",
    "    result = collection.update_many(\n",
    "        {'transaction.merchant': merchant, 'transaction.category': None}, \n",
    "        {'$set' : {'transaction.category': category, 'transaction.sub_category': sub_category}})\n",
    "    print(str(merchant) + ' modified ' + str(result.modified_count))\n",
    "    return result"
   ]
  },
  {
   "cell_type": "code",
   "execution_count": 23,
   "metadata": {},
   "outputs": [
    {
     "name": "stdout",
     "output_type": "stream",
     "text": [
      "THENEWIN1262499 modified 0\n",
      "PEPPERFRY64213 modified 0\n",
      "zerodhabroking@hdfcbank modified 0\n",
      "AKSHAYAK3819720 modified 0\n",
      "PVR LIMITED. modified 0\n",
      "NEW FRUITLAND modified 0\n",
      "LIC modified 0\n",
      "cru5ty.d3m0nx-2@okhdfcbank modified 0\n",
      "bharatpe90200570491@yesbankltd modified 0\n",
      "PHOENIX MARKETCITY BAN modified 0\n",
      "Paratha Corner modified 0\n",
      "H M LEISURE modified 0\n",
      "Instapay BBPS modified 0\n",
      "VIN*APPLE COM. modified 0\n",
      "swiggyupi@axisbank modified 0\n",
      "Newspaper modified 0\n",
      "AMAZON modified 0\n",
      "..ARENA_ modified 0\n",
      "Bharat Sanchar Nigam L modified 0\n",
      "NEW FRUIT LAND modified 0\n",
      "chinjuprakasan90@okhdfcbank modified 0\n",
      "upiswiggy@icici modified 0\n",
      "paytmqr281005050101j1cog2ifqf2u@paytm modified 0\n",
      "q22904860@ybl modified 0\n",
      "www.bigbasket. modified 0\n",
      "bharatpe.9040576993@icici modified 0\n",
      "FIRSTCRY11847 modified 0\n",
      "SWIGGY modified 0\n",
      "..MATTO COFFEA_ modified 0\n",
      "BBPSBILLPAY modified 0\n",
      "HORTICULTURE PRODUCERS modified 0\n",
      "www.dunzo.in modified 0\n",
      "UBER modified 0\n",
      "zomato@hdfcbank modified 0\n",
      "AARKITHA modified 0\n",
      "Akshayakalpa modified 0\n",
      "BHARTI AIRTEL LIMITED modified 0\n",
      "www.ebharatgas.com modified 0\n",
      "nan modified 0\n",
      "NETFLIX ENTERTAINMENT modified 0\n",
      "Drdo modified 0\n",
      "VSI*APPLE COM. modified 0\n",
      "AJIO modified 0\n",
      "Freshtohome modified 0\n",
      "HDFCBILLPAY modified 2\n",
      "bharatpe09600003315¡yesbankltd modified 0\n",
      "JIO Infocom modified 0\n",
      "SWIGGY95116 modified 0\n",
      "paytmqr2810050501011f9xdbj3suxl@paytm modified 7\n",
      "ZOMATO11120 modified 0\n",
      "BOOKMYSHOW modified 0\n",
      "SWIGGYXL3549786 modified 0\n",
      "SRI UDUPI PARK modified 0\n",
      "FRESHTOH3631510 in BANGALORE modified 0\n",
      "vijualoor@okhdfcbank modified 0\n",
      "Solanki medicals modified 0\n",
      "VPS*DROMI    . modified 0\n",
      "The lassi club modified 0\n",
      "ONE97 COMMUNICATIONS L modified 1\n",
      "MICROSOFT modified 0\n",
      "www.zomato.com modified 0\n",
      "..RAJDHANI PHOENIX_ modified 0\n",
      "M K RETAIL modified 0\n",
      "FRESHTOH3631510 modified 0\n",
      "VPS*HORTICULT. modified 0\n",
      "VPS*PAY Sreen. modified 0\n",
      "PAYTM3852398 modified 4\n",
      "Deepak modified 0\n",
      "Innovative Retail Concept modified 0\n",
      "HINDUSTAN PETROLEUM CO modified 0\n",
      "Eat Fit modified 0\n",
      "bharatpe90200570491¡yesbankltd modified 0\n",
      "amazonsellerservices.98397377@hdfcbank modified 0\n",
      "IIN*Amazon   . modified 6\n",
      "MYNTRA72883 modified 0\n",
      "AkshayKalpa Farms and modified 0\n",
      "HPCL HINDUSTAN PETROLE modified 0\n",
      "Bharti Airtel Limited modified 0\n",
      "PAYTM modified 23\n",
      "www.swiggy.in modified 18\n"
     ]
    }
   ],
   "source": [
    "    merchant_category_mapping = list(collection.aggregate(pipeline))\n",
    "    for _m in merchant_category_mapping:\n",
    "        add_category_info_for_merchant(collection, _m['merchant'], category=_m['category'], sub_category=_m['sub_category'])"
   ]
  },
  {
   "cell_type": "code",
   "execution_count": null,
   "metadata": {},
   "outputs": [],
   "source": []
  }
 ],
 "metadata": {
  "kernelspec": {
   "display_name": "Python 3",
   "language": "python",
   "name": "python3"
  },
  "language_info": {
   "codemirror_mode": {
    "name": "ipython",
    "version": 3
   },
   "file_extension": ".py",
   "mimetype": "text/x-python",
   "name": "python",
   "nbconvert_exporter": "python",
   "pygments_lexer": "ipython3",
   "version": "3.7.4"
  }
 },
 "nbformat": 4,
 "nbformat_minor": 4
}
