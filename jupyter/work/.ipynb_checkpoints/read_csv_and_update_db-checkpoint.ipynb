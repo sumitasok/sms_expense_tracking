{
 "cells": [
  {
   "cell_type": "code",
   "execution_count": 83,
   "metadata": {},
   "outputs": [],
   "source": [
    "import pandas as pd\n",
    "import  math\n",
    "import os\n",
    "import bson\n",
    "from dateutil import parser\n",
    "\n",
    "from pymongo import MongoClient\n",
    "\n",
    "def mongoCollection(connstr, db, collection):\n",
    "    client = MongoClient(connstr)\n",
    "    db = client[db]\n",
    "    return db[collection]"
   ]
  },
  {
   "cell_type": "code",
   "execution_count": 59,
   "metadata": {},
   "outputs": [],
   "source": [
    "collection = mongoCollection(os.environ.get('MONGODB_CONN_STR'), 'smsinfo', 'transactions')"
   ]
  },
  {
   "cell_type": "code",
   "execution_count": 12,
   "metadata": {},
   "outputs": [],
   "source": [
    "csvdf = pd.read_csv('/data/2020-March.csv') "
   ]
  },
  {
   "cell_type": "code",
   "execution_count": 14,
   "metadata": {},
   "outputs": [
    {
     "data": {
      "text/plain": [
       "'5e80d16248a45dfa05b4e711'"
      ]
     },
     "execution_count": 14,
     "metadata": {},
     "output_type": "execute_result"
    }
   ],
   "source": [
    "csvdf.to_dict()['_id'][0]"
   ]
  },
  {
   "cell_type": "code",
   "execution_count": 90,
   "metadata": {},
   "outputs": [],
   "source": [
    "keys = list(csvdf.to_dict().keys())\n",
    "count = len(csvdf)"
   ]
  },
  {
   "cell_type": "code",
   "execution_count": 31,
   "metadata": {},
   "outputs": [],
   "source": [
    "def dict_from_idx(dataframe, idx, keys):\n",
    "    data = {}\n",
    "    for k in keys:\n",
    "        data[k] = dataframe[k][idx]\n",
    "    return data"
   ]
  },
  {
   "cell_type": "code",
   "execution_count": null,
   "metadata": {},
   "outputs": [],
   "source": []
  },
  {
   "cell_type": "code",
   "execution_count": 98,
   "metadata": {},
   "outputs": [
    {
     "name": "stdout",
     "output_type": "stream",
     "text": [
      "5e80d16248a45dfa05b4e711\n",
      "{'transaction.expense_amount': 240.0, 'transaction.payment_mode': 'Akshayakalpa Wallet', 'transaction.merchant': 'Akshayakalpa', 'transaction.category': 'grocery', 'transaction.sub_category': 'diary', 'transaction.direction': 'DEBIT', 'transaction.service_provider': nan, 'event.name': nan, 'transaction.comment': nan}\n",
      "5e74e355b03788edf71b9989\n",
      "{'transaction.expense_amount': 270.0, 'transaction.payment_mode': 'Akshayakalpa Wallet', 'transaction.merchant': 'Akshayakalpa', 'transaction.category': 'grocery', 'transaction.sub_category': 'diary', 'transaction.direction': 'DEBIT', 'transaction.service_provider': nan, 'event.name': nan, 'transaction.comment': nan}\n",
      "5e6a2e2fcf5bc03d3f440ca7\n",
      "{'transaction.expense_amount': 270.0, 'transaction.payment_mode': 'Akshayakalpa Wallet', 'transaction.merchant': 'Akshayakalpa', 'transaction.category': 'grocery', 'transaction.sub_category': 'diary', 'transaction.direction': 'DEBIT', 'transaction.service_provider': nan, 'event.name': nan, 'transaction.comment': nan}\n",
      "5e6344530b2e08ee3d72852e\n",
      "{'transaction.expense_amount': 270.0, 'transaction.payment_mode': 'Akshayakalpa Wallet', 'transaction.merchant': 'Akshayakalpa', 'transaction.category': 'grocery', 'transaction.sub_category': 'diary', 'transaction.direction': 'DEBIT', 'transaction.service_provider': nan, 'event.name': nan, 'transaction.comment': nan}\n",
      "5e63a8b4a2528f380776e94d\n",
      "{'transaction.expense_amount': 140.0, 'transaction.payment_mode': 'Akshayakalpa Wallet', 'transaction.merchant': 'Akshayakalpa', 'transaction.category': 'grocery', 'transaction.sub_category': 'diary', 'transaction.direction': 'DEBIT', 'transaction.service_provider': nan, 'event.name': nan, 'transaction.comment': nan}\n",
      "5e80d16348a45dfa05b4e716\n",
      "{'transaction.expense_amount': 257.0, 'transaction.payment_mode': 'CREDIT Card xx3690', 'transaction.merchant': 'Freshtohome', 'transaction.category': 'grocery', 'transaction.sub_category': 'non-veg', 'transaction.direction': 'DEBIT', 'transaction.service_provider': nan, 'event.name': nan, 'transaction.comment': nan}\n",
      "5e74e359b03788edf71b9999\n",
      "{'transaction.expense_amount': 481.0, 'transaction.payment_mode': 'CREDIT Card xx3690', 'transaction.merchant': 'Freshtohome', 'transaction.category': 'grocery', 'transaction.sub_category': 'non-veg', 'transaction.direction': 'DEBIT', 'transaction.service_provider': nan, 'event.name': nan, 'transaction.comment': nan}\n",
      "5e6a2e2fcf5bc03d3f440cb0\n",
      "{'transaction.expense_amount': 459.0, 'transaction.payment_mode': 'CREDIT Card xx3690', 'transaction.merchant': 'Freshtohome', 'transaction.category': 'grocery', 'transaction.sub_category': 'non-veg', 'transaction.direction': 'DEBIT', 'transaction.service_provider': nan, 'event.name': nan, 'transaction.comment': nan}\n",
      "{'transaction.expense_amount': 2000.0, 'transaction.payment_mode': 'Cash', 'transaction.merchant': 'Drdo', 'transaction.category': 'grocery', 'transaction.sub_category': 'all', 'transaction.direction': 'DEBIT', 'transaction.service_provider': nan, 'event.name': nan, 'transaction.comment': nan, 'transaction.datetime': datetime.datetime(2020, 3, 29, 18, 53), 'status': {'analysis_done': True, 'mode': 'MANUAL'}}\n",
      "5e858a0fe0428e02c2b4e997\n",
      "{'status': {'analysis_done': True, 'mode': 'MANUAL'}, 'transaction': {'expense_amount': 2000.0, 'payment_mode': 'Cash', 'merchant': 'Drdo', 'category': 'grocery', 'sub_category': 'all', 'direction': 'DEBIT', 'service_provider': nan, 'comment': nan, 'datetime': datetime.datetime(2020, 3, 29, 18, 53)}, 'event': {'name': nan}, '_id': ObjectId('5e858a0fe0428e02c2b4e997')}\n",
      "5e80d16248a45dfa05b4e70c\n",
      "{'transaction.expense_amount': 290.0, 'transaction.payment_mode': 'CREDIT Card xx3690', 'transaction.merchant': 'Innovative Retail Concept', 'transaction.category': 'grocery', 'transaction.sub_category': 'all', 'transaction.direction': 'DEBIT', 'transaction.service_provider': nan, 'event.name': nan, 'transaction.comment': nan}\n",
      "5e80d16148a45dfa05b4e707\n",
      "{'transaction.expense_amount': 119.0, 'transaction.payment_mode': 'CREDIT Card xx3690', 'transaction.merchant': 'www.bigbasket.', 'transaction.category': 'grocery', 'transaction.sub_category': 'all', 'transaction.direction': 'DEBIT', 'transaction.service_provider': nan, 'event.name': nan, 'transaction.comment': nan}\n",
      "5e80d16148a45dfa05b4e705\n",
      "{'transaction.expense_amount': 175.0, 'transaction.payment_mode': 'CREDIT Card xx3690', 'transaction.merchant': 'www.bigbasket.', 'transaction.category': 'grocery', 'transaction.sub_category': 'all', 'transaction.direction': 'DEBIT', 'transaction.service_provider': nan, 'event.name': nan, 'transaction.comment': nan}\n",
      "5e80d16148a45dfa05b4e703\n",
      "{'transaction.expense_amount': 199.0, 'transaction.payment_mode': 'CREDIT Card xx3690', 'transaction.merchant': 'www.bigbasket.', 'transaction.category': 'grocery', 'transaction.sub_category': 'all', 'transaction.direction': 'DEBIT', 'transaction.service_provider': nan, 'event.name': nan, 'transaction.comment': nan}\n",
      "5e80d16148a45dfa05b4e701\n",
      "{'transaction.expense_amount': 433.0, 'transaction.payment_mode': 'CREDIT Card xx3690', 'transaction.merchant': 'www.bigbasket.', 'transaction.category': 'grocery', 'transaction.sub_category': 'all', 'transaction.direction': 'DEBIT', 'transaction.service_provider': nan, 'event.name': nan, 'transaction.comment': nan}\n",
      "5e80d16148a45dfa05b4e6fe\n",
      "{'transaction.expense_amount': 289.0, 'transaction.payment_mode': 'CREDIT Card xx3690', 'transaction.merchant': 'www.bigbasket.', 'transaction.category': 'grocery', 'transaction.sub_category': 'all', 'transaction.direction': 'DEBIT', 'transaction.service_provider': nan, 'event.name': nan, 'transaction.comment': nan}\n",
      "5e80d16048a45dfa05b4e6fc\n",
      "{'transaction.expense_amount': 325.0, 'transaction.payment_mode': 'CREDIT Card xx3690', 'transaction.merchant': 'www.bigbasket.', 'transaction.category': 'grocery', 'transaction.sub_category': 'all', 'transaction.direction': 'DEBIT', 'transaction.service_provider': nan, 'event.name': nan, 'transaction.comment': nan}\n",
      "5e79cdb521664b08c327c20f\n",
      "{'transaction.expense_amount': 1217.0, 'transaction.payment_mode': 'CREDIT Card xx3690', 'transaction.merchant': 'www.dunzo.in', 'transaction.category': 'grocery', 'transaction.sub_category': 'all', 'transaction.direction': 'DEBIT', 'transaction.service_provider': nan, 'event.name': nan, 'transaction.comment': nan}\n",
      "5e74e355b03788edf71b9986\n",
      "{'transaction.expense_amount': 377.26, 'transaction.payment_mode': 'CREDIT Card xx3690', 'transaction.merchant': 'www.bigbasket.', 'transaction.category': 'grocery', 'transaction.sub_category': 'all', 'transaction.direction': 'DEBIT', 'transaction.service_provider': nan, 'event.name': nan, 'transaction.comment': nan}\n",
      "5e74e354b03788edf71b9982\n",
      "{'transaction.expense_amount': 1313.56, 'transaction.payment_mode': 'CREDIT Card xx3690', 'transaction.merchant': 'www.bigbasket.', 'transaction.category': 'grocery', 'transaction.sub_category': 'all', 'transaction.direction': 'DEBIT', 'transaction.service_provider': nan, 'event.name': nan, 'transaction.comment': nan}\n",
      "5e6e2e943101defb962a0f6f\n",
      "{'transaction.expense_amount': 99.12, 'transaction.payment_mode': 'CREDIT Card xx3690', 'transaction.merchant': 'M K RETAIL', 'transaction.category': 'grocery', 'transaction.sub_category': 'all', 'transaction.direction': 'DEBIT', 'transaction.service_provider': nan, 'event.name': nan, 'transaction.comment': nan}\n",
      "5e6e2e943101defb962a0f6e\n",
      "{'transaction.expense_amount': 1557.63, 'transaction.payment_mode': 'CREDIT Card xx3690', 'transaction.merchant': 'M K RETAIL', 'transaction.category': 'grocery', 'transaction.sub_category': 'all', 'transaction.direction': 'DEBIT', 'transaction.service_provider': nan, 'event.name': nan, 'transaction.comment': nan}\n",
      "5e6e2e943101defb962a0f6d\n",
      "{'transaction.expense_amount': 4135.2, 'transaction.payment_mode': 'CREDIT Card xx3690', 'transaction.merchant': 'M K RETAIL', 'transaction.category': 'grocery', 'transaction.sub_category': 'all', 'transaction.direction': 'DEBIT', 'transaction.service_provider': nan, 'event.name': nan, 'transaction.comment': nan}\n",
      "5e6a2e2fcf5bc03d3f440ca5\n",
      "{'transaction.expense_amount': 328.0, 'transaction.payment_mode': 'CREDIT Card xx3690', 'transaction.merchant': 'www.bigbasket.', 'transaction.category': 'grocery', 'transaction.sub_category': 'all', 'transaction.direction': 'DEBIT', 'transaction.service_provider': nan, 'event.name': nan, 'transaction.comment': nan}\n",
      "5e6a2e2ecf5bc03d3f440ca2\n",
      "{'transaction.expense_amount': 994.0, 'transaction.payment_mode': 'CREDIT Card xx3690', 'transaction.merchant': 'www.bigbasket.', 'transaction.category': 'grocery', 'transaction.sub_category': 'all', 'transaction.direction': 'DEBIT', 'transaction.service_provider': nan, 'event.name': nan, 'transaction.comment': nan}\n",
      "5e66368c97014883785e8561\n",
      "{'transaction.expense_amount': 105.0, 'transaction.payment_mode': 'CREDIT Card xx3690', 'transaction.merchant': 'www.dunzo.in', 'transaction.category': 'Grocery', 'transaction.sub_category': 'All', 'transaction.direction': 'DEBIT', 'transaction.service_provider': nan, 'event.name': nan, 'transaction.comment': nan}\n",
      "{'transaction.expense_amount': 1610.0, 'transaction.payment_mode': 'Citibank', 'transaction.merchant': 'www.bigbasket.', 'transaction.category': 'grocery', 'transaction.sub_category': 'all', 'transaction.direction': 'DEBIT', 'transaction.service_provider': nan, 'event.name': nan, 'transaction.comment': nan, 'transaction.datetime': datetime.datetime(2020, 3, 1, 19, 43, 31), 'status': {'analysis_done': True, 'mode': 'MANUAL'}}\n",
      "5e858a10e0428e02c2b4e998\n",
      "{'status': {'analysis_done': True, 'mode': 'MANUAL'}, 'transaction': {'expense_amount': 1610.0, 'payment_mode': 'Citibank', 'merchant': 'www.bigbasket.', 'category': 'grocery', 'sub_category': 'all', 'direction': 'DEBIT', 'service_provider': nan, 'comment': nan, 'datetime': datetime.datetime(2020, 3, 1, 19, 43, 31)}, 'event': {'name': nan}, '_id': ObjectId('5e858a10e0428e02c2b4e998')}\n",
      "5e79cdb121664b08c327c1f6\n",
      "{'transaction.expense_amount': 2249.0, 'transaction.payment_mode': 'CREDIT Card xx3690', 'transaction.merchant': 'NEW FRUITLAND', 'transaction.category': 'grocery', 'transaction.sub_category': 'vegetables', 'transaction.direction': 'DEBIT', 'transaction.service_provider': nan, 'event.name': nan, 'transaction.comment': nan}\n",
      "5e6344540b2e08ee3d728540\n"
     ]
    },
    {
     "name": "stdout",
     "output_type": "stream",
     "text": [
      "{'transaction.expense_amount': 954.0, 'transaction.payment_mode': 'CREDIT Card xx3690', 'transaction.merchant': 'NEW FRUIT LAND', 'transaction.category': 'grocery', 'transaction.sub_category': 'vegetables', 'transaction.direction': 'DEBIT', 'transaction.service_provider': nan, 'event.name': nan, 'transaction.comment': nan}\n",
      "5e80d16248a45dfa05b4e710\n",
      "{'transaction.expense_amount': 546.0, 'transaction.payment_mode': 'CREDIT Card xx3690', 'transaction.merchant': 'SWIGGY95116', 'transaction.category': 'food', 'transaction.sub_category': 'Delivery', 'transaction.direction': 'DEBIT', 'transaction.service_provider': 'Punjabi-Rasoi', 'event.name': nan, 'transaction.comment': nan}\n",
      "5e79cdb121664b08c327c1fb\n",
      "{'transaction.expense_amount': 373.0, 'transaction.payment_mode': 'CREDIT Card xx3690', 'transaction.merchant': 'SWIGGY', 'transaction.category': 'food', 'transaction.sub_category': 'delivery', 'transaction.direction': 'DEBIT', 'transaction.service_provider': nan, 'event.name': nan, 'transaction.comment': nan}\n",
      "5e74e353b03788edf71b997c\n",
      "{'transaction.expense_amount': 305.0, 'transaction.payment_mode': 'CREDIT Card xx3690', 'transaction.merchant': 'SWIGGY', 'transaction.category': 'food', 'transaction.sub_category': 'delivery', 'transaction.direction': 'DEBIT', 'transaction.service_provider': nan, 'event.name': nan, 'transaction.comment': nan}\n",
      "5e6e2e953101defb962a0f76\n",
      "{'transaction.expense_amount': 352.0, 'transaction.payment_mode': 'CREDIT Card xx3690', 'transaction.merchant': 'ONE97 COMMUNICATIONS L', 'transaction.category': 'food', 'transaction.sub_category': 'delivery', 'transaction.direction': 'DEBIT', 'transaction.service_provider': nan, 'event.name': nan, 'transaction.comment': nan}\n",
      "5e6a2e2ecf5bc03d3f440ca0\n",
      "{'transaction.expense_amount': 219.0, 'transaction.payment_mode': 'CREDIT Card xx3690', 'transaction.merchant': 'www.swiggy.in', 'transaction.category': 'food', 'transaction.sub_category': 'delivery', 'transaction.direction': 'DEBIT', 'transaction.service_provider': nan, 'event.name': nan, 'transaction.comment': nan}\n",
      "5e66368b97014883785e855f\n",
      "{'transaction.expense_amount': 1327.0, 'transaction.payment_mode': 'CREDIT Card xx3690', 'transaction.merchant': 'ONE97 COMMUNICATIONS L', 'transaction.category': 'food', 'transaction.sub_category': 'delivery', 'transaction.direction': 'DEBIT', 'transaction.service_provider': 'Plan-B', 'event.name': nan, 'transaction.comment': nan}\n",
      "5e63a8b4a2528f380776e94a\n",
      "{'transaction.expense_amount': 410.0, 'transaction.payment_mode': 'CREDIT Card xx3690', 'transaction.merchant': 'SWIGGY', 'transaction.category': 'food', 'transaction.sub_category': 'delivery', 'transaction.direction': 'DEBIT', 'transaction.service_provider': nan, 'event.name': nan, 'transaction.comment': nan}\n",
      "5e6344540b2e08ee3d728543\n",
      "{'transaction.expense_amount': 666.0, 'transaction.payment_mode': 'CREDIT Card xx3690', 'transaction.merchant': 'SWIGGY', 'transaction.category': 'food', 'transaction.sub_category': 'delivery', 'transaction.direction': 'DEBIT', 'transaction.service_provider': nan, 'event.name': nan, 'transaction.comment': nan}\n",
      "5e6344540b2e08ee3d728541\n",
      "{'transaction.expense_amount': 100.0, 'transaction.payment_mode': 'PAYTM', 'transaction.merchant': 'Eat Fit', 'transaction.category': 'food', 'transaction.sub_category': 'delivery', 'transaction.direction': 'DEBIT', 'transaction.service_provider': nan, 'event.name': nan, 'transaction.comment': nan}\n",
      "5e6344540b2e08ee3d72853f\n",
      "{'transaction.expense_amount': 168.0, 'transaction.payment_mode': 'CREDIT Card xx3690', 'transaction.merchant': 'SWIGGY', 'transaction.category': 'food', 'transaction.sub_category': 'delivery', 'transaction.direction': 'DEBIT', 'transaction.service_provider': nan, 'event.name': nan, 'transaction.comment': nan}\n",
      "5e6344540b2e08ee3d72853a\n",
      "{'transaction.expense_amount': 186.0, 'transaction.payment_mode': 'PAYTM', 'transaction.merchant': 'Eat Fit', 'transaction.category': 'food', 'transaction.sub_category': 'delivery', 'transaction.direction': 'DEBIT', 'transaction.service_provider': nan, 'event.name': nan, 'transaction.comment': nan}\n",
      "5e6344540b2e08ee3d728539\n",
      "{'transaction.expense_amount': 185.0, 'transaction.payment_mode': 'PAYTM', 'transaction.merchant': 'Eat Fit', 'transaction.category': 'food', 'transaction.sub_category': 'delivery', 'transaction.direction': 'DEBIT', 'transaction.service_provider': nan, 'event.name': nan, 'transaction.comment': nan}\n",
      "5e6344530b2e08ee3d728538\n",
      "{'transaction.expense_amount': 310.0, 'transaction.payment_mode': 'CREDIT Card xx3690', 'transaction.merchant': 'SWIGGY', 'transaction.category': 'food', 'transaction.sub_category': 'delivery', 'transaction.direction': 'DEBIT', 'transaction.service_provider': nan, 'event.name': nan, 'transaction.comment': nan}\n",
      "5e6344530b2e08ee3d728534\n",
      "{'transaction.expense_amount': 219.0, 'transaction.payment_mode': 'CREDIT Card xx3690', 'transaction.merchant': 'SWIGGY', 'transaction.category': 'food', 'transaction.sub_category': 'delivery', 'transaction.direction': 'DEBIT', 'transaction.service_provider': nan, 'event.name': nan, 'transaction.comment': nan}\n",
      "5e5e58eb5501e769a54470ee\n",
      "{'transaction.expense_amount': 139.0, 'transaction.payment_mode': 'PAYTM', 'transaction.merchant': 'Eat Fit', 'transaction.category': 'food', 'transaction.sub_category': 'delivery', 'transaction.direction': 'DEBIT', 'transaction.service_provider': nan, 'event.name': nan, 'transaction.comment': nan}\n",
      "5e5e58e95501e769a54470dc\n",
      "{'transaction.expense_amount': 110.0, 'transaction.payment_mode': 'PAYTM', 'transaction.merchant': 'Eat Fit', 'transaction.category': 'food', 'transaction.sub_category': 'delivery', 'transaction.direction': 'DEBIT', 'transaction.service_provider': nan, 'event.name': nan, 'transaction.comment': nan}\n",
      "5e6344540b2e08ee3d728544\n",
      "{'transaction.expense_amount': 77.0, 'transaction.payment_mode': 'CREDIT Card xx3690', 'transaction.merchant': 'SRI UDUPI PARK', 'transaction.category': 'food', 'transaction.sub_category': 'eating-out', 'transaction.direction': 'DEBIT', 'transaction.service_provider': nan, 'event.name': nan, 'transaction.comment': nan}\n",
      "5e650b96ba11c5f2e513f0ed\n",
      "{'transaction.expense_amount': 160.0, 'transaction.payment_mode': 'XXX983', 'transaction.merchant': 'paytmqr281005050101j1cog2ifqf2u@paytm', 'transaction.category': 'food', 'transaction.sub_category': 'snacks', 'transaction.direction': 'DEBIT', 'transaction.service_provider': nan, 'event.name': nan, 'transaction.comment': nan}\n",
      "5e80d16048a45dfa05b4e6f9\n",
      "{'transaction.expense_amount': 114.1, 'transaction.payment_mode': 'CREDIT Card xx3690', 'transaction.merchant': 'PAYTM', 'transaction.category': 'others', 'transaction.sub_category': 'others', 'transaction.direction': 'DEBIT', 'transaction.service_provider': nan, 'event.name': nan, 'transaction.comment': nan}\n",
      "5e80d16048a45dfa05b4e6fa\n",
      "{'transaction.expense_amount': 157.0, 'transaction.payment_mode': 'XXX983', 'transaction.merchant': 'paytmqr2810050501011f9xdbj3suxl@paytm', 'transaction.category': 'Medicine', 'transaction.sub_category': 'Medicine', 'transaction.direction': 'DEBIT', 'transaction.service_provider': nan, 'event.name': nan, 'transaction.comment': nan}\n",
      "5e79cdb421664b08c327c20b\n",
      "{'transaction.expense_amount': 37.0, 'transaction.payment_mode': 'XXX983', 'transaction.merchant': 'paytmqr2810050501011f9xdbj3suxl@paytm', 'transaction.category': 'medicine', 'transaction.sub_category': 'medicine', 'transaction.direction': 'DEBIT', 'transaction.service_provider': nan, 'event.name': nan, 'transaction.comment': nan}\n",
      "{'transaction.expense_amount': 550.0, 'transaction.payment_mode': 'XXX983', 'transaction.merchant': 'paytmqr2810050501011f9xdbj3suxl@paytm', 'transaction.category': 'medicine', 'transaction.sub_category': 'medicine', 'transaction.direction': 'DEBIT', 'transaction.service_provider': nan, 'event.name': nan, 'transaction.comment': nan, 'transaction.datetime': datetime.datetime(2020, 3, 23, 0, 0), 'status': {'analysis_done': True, 'mode': 'MANUAL'}}\n",
      "5e858a11e0428e02c2b4e999\n",
      "{'status': {'analysis_done': True, 'mode': 'MANUAL'}, 'transaction': {'expense_amount': 550.0, 'payment_mode': 'XXX983', 'merchant': 'paytmqr2810050501011f9xdbj3suxl@paytm', 'category': 'medicine', 'sub_category': 'medicine', 'direction': 'DEBIT', 'service_provider': nan, 'comment': nan, 'datetime': datetime.datetime(2020, 3, 23, 0, 0)}, 'event': {'name': nan}, '_id': ObjectId('5e858a11e0428e02c2b4e999')}\n",
      "5e6a2e2fcf5bc03d3f440cae\n",
      "{'transaction.expense_amount': 600.0, 'transaction.payment_mode': 'XXX983', 'transaction.merchant': 'paytmqr2810050501011f9xdbj3suxl@paytm', 'transaction.category': 'medicine', 'transaction.sub_category': 'medicine', 'transaction.direction': 'DEBIT', 'transaction.service_provider': nan, 'event.name': nan, 'transaction.comment': nan}\n",
      "5e7b54a3191fa01d098b6085\n",
      "{'transaction.expense_amount': 11847.0, 'transaction.payment_mode': 'CREDIT Card xx3690', 'transaction.merchant': 'THENEWIN1262499', 'transaction.category': 'insurance', 'transaction.sub_category': 'Auto', 'transaction.direction': 'DEBIT', 'transaction.service_provider': nan, 'event.name': nan, 'transaction.comment': nan}\n",
      "5e80d16048a45dfa05b4e6f6\n",
      "{'transaction.expense_amount': 49.0, 'transaction.payment_mode': 'XX983', 'transaction.merchant': 'VIN*APPLE COM.', 'transaction.category': 'subscription', 'transaction.sub_category': 'apps', 'transaction.direction': 'DEBIT', 'transaction.service_provider': 'SunNxt', 'event.name': nan, 'transaction.comment': nan}\n",
      "5e6344540b2e08ee3d72853c\n",
      "{'transaction.expense_amount': 99.0, 'transaction.payment_mode': 'XX983', 'transaction.merchant': 'VSI*APPLE COM.', 'transaction.category': 'subscription', 'transaction.sub_category': 'apps', 'transaction.direction': 'DEBIT', 'transaction.service_provider': 'Bear app', 'event.name': nan, 'transaction.comment': nan}\n",
      "5e6344540b2e08ee3d72853d\n",
      "{'transaction.expense_amount': 219.0, 'transaction.payment_mode': 'XX983', 'transaction.merchant': 'VSI*APPLE COM.', 'transaction.category': 'subscription', 'transaction.sub_category': 'apps', 'transaction.direction': 'DEBIT', 'transaction.service_provider': 'iCloud', 'event.name': nan, 'transaction.comment': nan}\n"
     ]
    },
    {
     "name": "stdout",
     "output_type": "stream",
     "text": [
      "5e79cdb121664b08c327c1f7\n",
      "{'transaction.expense_amount': 179.0, 'transaction.payment_mode': 'CREDIT Card xx3690', 'transaction.merchant': 'AMAZON', 'transaction.category': 'purchase', 'transaction.sub_category': 'household', 'transaction.direction': 'DEBIT', 'transaction.service_provider': nan, 'event.name': nan, 'transaction.comment': nan}\n",
      "5e6a2e2fcf5bc03d3f440cab\n",
      "{'transaction.expense_amount': 375.0, 'transaction.payment_mode': 'CREDIT Card xx3690', 'transaction.merchant': 'AMAZON', 'transaction.category': 'purchase', 'transaction.sub_category': 'household', 'transaction.direction': 'DEBIT', 'transaction.service_provider': nan, 'event.name': nan, 'transaction.comment': nan}\n",
      "5e6a2e2fcf5bc03d3f440caa\n",
      "{'transaction.expense_amount': 279.1, 'transaction.payment_mode': 'CREDIT Card xx3690', 'transaction.merchant': 'AMAZON', 'transaction.category': 'purchase', 'transaction.sub_category': 'household', 'transaction.direction': 'DEBIT', 'transaction.service_provider': nan, 'event.name': nan, 'transaction.comment': nan}\n",
      "5e74e355b03788edf71b9987\n",
      "{'transaction.expense_amount': 425.0, 'transaction.payment_mode': 'CREDIT Card xx3690', 'transaction.merchant': 'AMAZON', 'transaction.category': 'purchase', 'transaction.sub_category': 'toiletry', 'transaction.direction': 'DEBIT', 'transaction.service_provider': 'Wet wipes', 'event.name': nan, 'transaction.comment': nan}\n",
      "5e6344530b2e08ee3d728530\n",
      "{'transaction.expense_amount': 702.0, 'transaction.payment_mode': 'CREDIT Card xx3690', 'transaction.merchant': 'AMAZON', 'transaction.category': 'purchase', 'transaction.sub_category': 'toiletry', 'transaction.direction': 'DEBIT', 'transaction.service_provider': 'Diaper', 'event.name': nan, 'transaction.comment': nan}\n",
      "5e650b96ba11c5f2e513f0ea\n",
      "{'transaction.expense_amount': 2472.25, 'transaction.payment_mode': 'CREDIT Card xx3690', 'transaction.merchant': 'FIRSTCRY11847', 'transaction.category': 'purchase', 'transaction.sub_category': 'cloths', 'transaction.direction': 'DEBIT', 'transaction.service_provider': nan, 'event.name': nan, 'transaction.comment': nan}\n",
      "5e79cdb021664b08c327c1f5\n",
      "{'transaction.expense_amount': 2134.75, 'transaction.payment_mode': 'CREDIT Card xx3690', 'transaction.merchant': 'HINDUSTAN PETROLEUM CO', 'transaction.category': 'auto', 'transaction.sub_category': 'fuel', 'transaction.direction': 'DEBIT', 'transaction.service_provider': nan, 'event.name': nan, 'transaction.comment': nan}\n",
      "{'transaction.expense_amount': 160.0, 'transaction.payment_mode': 'Cash', 'transaction.merchant': 'Newspaper', 'transaction.category': 'utility', 'transaction.sub_category': 'newspaper', 'transaction.direction': 'DEBIT', 'transaction.service_provider': nan, 'event.name': nan, 'transaction.comment': nan, 'transaction.datetime': datetime.datetime(2020, 3, 18, 20, 38, 6), 'status': {'analysis_done': True, 'mode': 'MANUAL'}}\n",
      "5e858a11e0428e02c2b4e99a\n",
      "{'status': {'analysis_done': True, 'mode': 'MANUAL'}, 'transaction': {'expense_amount': 160.0, 'payment_mode': 'Cash', 'merchant': 'Newspaper', 'category': 'utility', 'sub_category': 'newspaper', 'direction': 'DEBIT', 'service_provider': nan, 'comment': nan, 'datetime': datetime.datetime(2020, 3, 18, 20, 38, 6)}, 'event': {'name': nan}, '_id': ObjectId('5e858a11e0428e02c2b4e99a')}\n",
      "5e74e356b03788edf71b998b\n",
      "{'transaction.expense_amount': 988.0, 'transaction.payment_mode': 'CREDIT Card xx3690', 'transaction.merchant': 'HDFCBILLPAY', 'transaction.category': 'utility', 'transaction.sub_category': 'internet', 'transaction.direction': 'DEBIT', 'transaction.service_provider': 'airtel', 'event.name': nan, 'transaction.comment': nan}\n",
      "5e6344540b2e08ee3d728545\n",
      "{'transaction.expense_amount': 1249.62, 'transaction.payment_mode': 'CREDIT Card xx3690', 'transaction.merchant': 'BBPSBILLPAY', 'transaction.category': 'utility', 'transaction.sub_category': 'internet', 'transaction.direction': 'DEBIT', 'transaction.service_provider': 'Act', 'event.name': nan, 'transaction.comment': nan}\n",
      "5e74e354b03788edf71b9980\n",
      "{'transaction.expense_amount': 399.0, 'transaction.payment_mode': 'CREDIT Card xx3690', 'transaction.merchant': 'Bharat Sanchar Nigam L', 'transaction.category': 'utility', 'transaction.sub_category': 'Mobile', 'transaction.direction': 'DEBIT', 'transaction.service_provider': 'Bsnl-0703', 'event.name': nan, 'transaction.comment': nan}\n",
      "5e5e58e95501e769a54470e0\n",
      "{'transaction.expense_amount': 329.0, 'transaction.payment_mode': 'CREDIT Card xx3690', 'transaction.merchant': 'JIO Infocom', 'transaction.category': 'utility', 'transaction.sub_category': 'mobile', 'transaction.direction': 'DEBIT', 'transaction.service_provider': 'Jio', 'event.name': nan, 'transaction.comment': nan}\n",
      "5e6a2e2fcf5bc03d3f440ca8\n",
      "{'transaction.expense_amount': 1103.0, 'transaction.payment_mode': 'CREDIT Card xx3690', 'transaction.merchant': 'BBPSBILLPAY', 'transaction.category': 'utility', 'transaction.sub_category': 'electricity', 'transaction.direction': 'DEBIT', 'transaction.service_provider': 'bescom', 'event.name': nan, 'transaction.comment': nan}\n",
      "{'transaction.expense_amount': 2500.0, 'transaction.payment_mode': 'CASH', 'transaction.merchant': nan, 'transaction.category': 'utility', 'transaction.sub_category': 'Maid', 'transaction.direction': 'DEBIT', 'transaction.service_provider': nan, 'event.name': nan, 'transaction.comment': nan, 'transaction.datetime': datetime.datetime(2020, 3, 20, 20, 38, 6), 'status': {'analysis_done': True, 'mode': 'MANUAL'}}\n",
      "5e858a11e0428e02c2b4e99b\n",
      "{'status': {'analysis_done': True, 'mode': 'MANUAL'}, 'transaction': {'expense_amount': 2500.0, 'payment_mode': 'CASH', 'merchant': nan, 'category': 'utility', 'sub_category': 'Maid', 'direction': 'DEBIT', 'service_provider': nan, 'comment': nan, 'datetime': datetime.datetime(2020, 3, 20, 20, 38, 6)}, 'event': {'name': nan}, '_id': ObjectId('5e858a11e0428e02c2b4e99b')}\n",
      "5e80d16048a45dfa05b4e6f5\n",
      "{'transaction.expense_amount': 500.0, 'transaction.payment_mode': 'CREDIT Card xx3690', 'transaction.merchant': 'Akshayakalpa', 'transaction.category': 'None', 'transaction.sub_category': 'None', 'transaction.direction': 'TRANSFER', 'transaction.service_provider': nan, 'event.name': nan, 'transaction.comment': nan}\n",
      "5e79cdb021664b08c327c1f2\n",
      "{'transaction.expense_amount': 500.0, 'transaction.payment_mode': 'CREDIT Card xx3690', 'transaction.merchant': 'AkshayKalpa Farms and', 'transaction.category': 'None', 'transaction.sub_category': 'None', 'transaction.direction': 'TRANSFER', 'transaction.service_provider': nan, 'event.name': nan, 'transaction.comment': nan}\n",
      "5e6a2e2fcf5bc03d3f440ca6\n",
      "{'transaction.expense_amount': 1000.0, 'transaction.payment_mode': 'CREDIT Card xx3690', 'transaction.merchant': 'PAYTM3852398', 'transaction.category': 'None', 'transaction.sub_category': 'None', 'transaction.direction': 'TRANSFER', 'transaction.service_provider': nan, 'event.name': nan, 'transaction.comment': nan}\n",
      "5e66368c97014883785e856c\n",
      "{'transaction.expense_amount': 2.0, 'transaction.payment_mode': 'CREDIT Card xx3690', 'transaction.merchant': 'MICROSOFT', 'transaction.category': 'None', 'transaction.sub_category': 'None', 'transaction.direction': 'TRANSFER', 'transaction.service_provider': nan, 'event.name': nan, 'transaction.comment': nan}\n",
      "5e66368c97014883785e8562\n",
      "{'transaction.expense_amount': 12.0, 'transaction.payment_mode': 'XXX983', 'transaction.merchant': 'zerodhabroking@hdfcbank', 'transaction.category': 'None', 'transaction.sub_category': 'None', 'transaction.direction': 'TRANSFER', 'transaction.service_provider': nan, 'event.name': nan, 'transaction.comment': nan}\n",
      "5e66368c97014883785e8564\n",
      "{'transaction.expense_amount': 12.0, 'transaction.payment_mode': 'XXX983', 'transaction.merchant': 'zerodhabroking@hdfcbank', 'transaction.category': 'None', 'transaction.sub_category': 'None', 'transaction.direction': 'TRANSFER', 'transaction.service_provider': nan, 'event.name': nan, 'transaction.comment': nan}\n",
      "5e650b97ba11c5f2e513f0f6\n",
      "{'transaction.expense_amount': 500.0, 'transaction.payment_mode': 'CREDIT Card xx3690', 'transaction.merchant': 'AKSHAYAK3819720', 'transaction.category': 'None', 'transaction.sub_category': 'None', 'transaction.direction': 'TRANSFER', 'transaction.service_provider': nan, 'event.name': nan, 'transaction.comment': nan}\n",
      "5e6344530b2e08ee3d728532\n",
      "{'transaction.expense_amount': 12.0, 'transaction.payment_mode': 'XXX983', 'transaction.merchant': 'chinjuprakasan90@okhdfcbank', 'transaction.category': 'None', 'transaction.sub_category': 'None', 'transaction.direction': 'TRANSFER', 'transaction.service_provider': nan, 'event.name': nan, 'transaction.comment': nan}\n",
      "5e5e58ea5501e769a54470ec\n",
      "{'transaction.expense_amount': 500.0, 'transaction.payment_mode': 'CREDIT Card xx3690', 'transaction.merchant': 'Akshayakalpa', 'transaction.category': 'None', 'transaction.sub_category': 'None', 'transaction.direction': 'TRANSFER', 'transaction.service_provider': nan, 'event.name': nan, 'transaction.comment': nan}\n"
     ]
    }
   ],
   "source": [
    "for i in range(count):\n",
    "    d = dict_from_idx(csvdf, i, keys)\n",
    "    date = d.pop('transaction.datetime')\n",
    "    _id = d.pop('_id')\n",
    "    if type(_id) != str and math.isnan(float(_id)):\n",
    "        d.update({'transaction.datetime':  parser.parse(date)})\n",
    "        d.update({'status': {'analysis_done': True, 'mode': 'MANUAL'}})\n",
    "        print(d)\n",
    "        for key in list(d.keys()):\n",
    "            _keys = key.split('.')\n",
    "            if len(_keys) == 2:\n",
    "                val = d.pop(key)\n",
    "                if _keys[0] not in d:\n",
    "                    d[_keys[0]] = {_keys[1] : val}\n",
    "                else:\n",
    "                    d[_keys[0]][_keys[1]] = val      \n",
    "        _id = collection.insert_one(d).inserted_id\n",
    "    else:\n",
    "        collection.update_one({'_id': bson.ObjectId(_id)}, {'$set': d}, upsert = False)\n",
    "    print(_id)\n",
    "    print(d)\n",
    "        "
   ]
  },
  {
   "cell_type": "code",
   "execution_count": 44,
   "metadata": {},
   "outputs": [
    {
     "data": {
      "text/plain": [
       "1"
      ]
     },
     "execution_count": 44,
     "metadata": {},
     "output_type": "execute_result"
    }
   ],
   "source": [
    "d = {'a': 1, 'b': 2}\n",
    "d.pop('a')"
   ]
  },
  {
   "cell_type": "code",
   "execution_count": 61,
   "metadata": {},
   "outputs": [],
   "source": [
    "d.update({'a': 2})"
   ]
  },
  {
   "cell_type": "code",
   "execution_count": 62,
   "metadata": {},
   "outputs": [
    {
     "data": {
      "text/plain": [
       "{'transaction.expense_amount': 500.0,\n",
       " 'transaction.payment_mode': 'CREDIT Card xx3690',\n",
       " 'transaction.merchant': 'Akshayakalpa',\n",
       " 'transaction.category': 'None',\n",
       " 'transaction.sub_category': 'None',\n",
       " 'transaction.direction': 'TRANSFER',\n",
       " 'transaction.service_provider': nan,\n",
       " 'event.name': nan,\n",
       " 'transaction.comment': nan,\n",
       " 'a': 2}"
      ]
     },
     "execution_count": 62,
     "metadata": {},
     "output_type": "execute_result"
    }
   ],
   "source": [
    "d"
   ]
  },
  {
   "cell_type": "code",
   "execution_count": 64,
   "metadata": {},
   "outputs": [],
   "source": [
    "d0 = dict_from_idx(csvdf, 0, keys)\n",
    "date0 = d0.pop('transaction.datetime')\n",
    "_id0 = d0.pop('_id')"
   ]
  },
  {
   "cell_type": "code",
   "execution_count": 69,
   "metadata": {},
   "outputs": [
    {
     "data": {
      "text/plain": [
       "{'transaction.expense_amount': 240.0,\n",
       " 'transaction.payment_mode': 'Akshayakalpa Wallet',\n",
       " 'transaction.merchant': 'Akshayakalpa',\n",
       " 'transaction.category': 'grocery',\n",
       " 'transaction.sub_category': 'diary',\n",
       " 'transaction.direction': 'DEBIT',\n",
       " 'transaction.service_provider': nan,\n",
       " 'event.name': nan,\n",
       " 'transaction.comment': nan,\n",
       " 'a': 1}"
      ]
     },
     "execution_count": 69,
     "metadata": {},
     "output_type": "execute_result"
    }
   ],
   "source": [
    "d0.update({'a': 1})\n",
    "d0"
   ]
  },
  {
   "cell_type": "code",
   "execution_count": 78,
   "metadata": {},
   "outputs": [],
   "source": [
    "c = collection.update_one({'_id': bson.ObjectId(_id0)}, {'$set': d0}, upsert = False)"
   ]
  },
  {
   "cell_type": "code",
   "execution_count": 79,
   "metadata": {},
   "outputs": [
    {
     "data": {
      "text/plain": [
       "'5e80d16248a45dfa05b4e711'"
      ]
     },
     "execution_count": 79,
     "metadata": {},
     "output_type": "execute_result"
    }
   ],
   "source": [
    "_id0"
   ]
  },
  {
   "cell_type": "code",
   "execution_count": 80,
   "metadata": {},
   "outputs": [
    {
     "data": {
      "text/plain": [
       "1"
      ]
     },
     "execution_count": 80,
     "metadata": {},
     "output_type": "execute_result"
    }
   ],
   "source": [
    "c.matched_count"
   ]
  },
  {
   "cell_type": "code",
   "execution_count": 81,
   "metadata": {},
   "outputs": [
    {
     "data": {
      "text/plain": [
       "{'transaction.expense_amount': 240.0,\n",
       " 'transaction.payment_mode': 'Akshayakalpa Wallet',\n",
       " 'transaction.merchant': 'Akshayakalpa',\n",
       " 'transaction.category': 'grocery',\n",
       " 'transaction.sub_category': 'diary',\n",
       " 'transaction.direction': 'DEBIT',\n",
       " 'transaction.service_provider': nan,\n",
       " 'event.name': nan,\n",
       " 'transaction.comment': nan,\n",
       " 'a': 1}"
      ]
     },
     "execution_count": 81,
     "metadata": {},
     "output_type": "execute_result"
    }
   ],
   "source": [
    "d0"
   ]
  },
  {
   "cell_type": "code",
   "execution_count": null,
   "metadata": {},
   "outputs": [],
   "source": [
    "from dateutil import parser"
   ]
  }
 ],
 "metadata": {
  "kernelspec": {
   "display_name": "Python 3",
   "language": "python",
   "name": "python3"
  },
  "language_info": {
   "codemirror_mode": {
    "name": "ipython",
    "version": 3
   },
   "file_extension": ".py",
   "mimetype": "text/x-python",
   "name": "python",
   "nbconvert_exporter": "python",
   "pygments_lexer": "ipython3",
   "version": "3.7.4"
  }
 },
 "nbformat": 4,
 "nbformat_minor": 4
}
