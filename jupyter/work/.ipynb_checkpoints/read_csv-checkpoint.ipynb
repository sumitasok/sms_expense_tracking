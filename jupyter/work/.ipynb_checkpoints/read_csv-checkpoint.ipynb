{
 "cells": [
  {
   "cell_type": "code",
   "execution_count": 83,
   "metadata": {},
   "outputs": [],
   "source": [
    "import pandas as pd\n",
    "import  math\n",
    "import os\n",
    "import bson\n",
    "from dateutil import parser\n",
    "\n",
    "from pymongo import MongoClient\n",
    "\n",
    "def mongoCollection(connstr, db, collection):\n",
    "    client = MongoClient(connstr)\n",
    "    db = client[db]\n",
    "    return db[collection]"
   ]
  },
  {
   "cell_type": "code",
   "execution_count": 59,
   "metadata": {},
   "outputs": [],
   "source": [
    "collection = mongoCollection(os.environ.get('MONGODB_CONN_STR'), 'smsinfo', 'transactions')"
   ]
  },
  {
   "cell_type": "code",
   "execution_count": 12,
   "metadata": {},
   "outputs": [],
   "source": [
    "csvdf = pd.read_csv('/data/2020-March.csv') "
   ]
  },
  {
   "cell_type": "code",
   "execution_count": 14,
   "metadata": {},
   "outputs": [
    {
     "data": {
      "text/plain": [
       "'5e80d16248a45dfa05b4e711'"
      ]
     },
     "execution_count": 14,
     "metadata": {},
     "output_type": "execute_result"
    }
   ],
   "source": [
    "csvdf.to_dict()['_id'][0]"
   ]
  },
  {
   "cell_type": "code",
   "execution_count": 90,
   "metadata": {},
   "outputs": [],
   "source": [
    "keys = list(csvdf.to_dict().keys())\n",
    "count = len(csvdf)"
   ]
  },
  {
   "cell_type": "code",
   "execution_count": 31,
   "metadata": {},
   "outputs": [],
   "source": [
    "def dict_from_idx(dataframe, idx, keys):\n",
    "    data = {}\n",
    "    for k in keys:\n",
    "        data[k] = dataframe[k][idx]\n",
    "    return data"
   ]
  },
  {
   "cell_type": "code",
   "execution_count": null,
   "metadata": {},
   "outputs": [],
   "source": []
  },
  {
   "cell_type": "code",
   "execution_count": 93,
   "metadata": {},
   "outputs": [
    {
     "name": "stdout",
     "output_type": "stream",
     "text": [
      "{'transaction.expense_amount': 2000.0, 'transaction.payment_mode': 'Cash', 'transaction.merchant': 'Drdo', 'transaction.category': 'grocery', 'transaction.sub_category': 'all', 'transaction.direction': 'DEBIT', 'transaction.service_provider': nan, 'event.name': nan, 'transaction.comment': nan, 'transaction.datetime': datetime.datetime(2020, 3, 29, 18, 53)}\n",
      "{'transaction.payment_mode': 'Cash', 'transaction.merchant': 'Drdo', 'transaction.category': 'grocery', 'transaction.sub_category': 'all', 'transaction.direction': 'DEBIT', 'transaction.service_provider': nan, 'event.name': nan, 'transaction.comment': nan, 'transaction.datetime': datetime.datetime(2020, 3, 29, 18, 53), 'transaction': {'expense_amount': 2000.0}}\n",
      "{'transaction.merchant': 'Drdo', 'transaction.category': 'grocery', 'transaction.sub_category': 'all', 'transaction.direction': 'DEBIT', 'transaction.service_provider': nan, 'event.name': nan, 'transaction.comment': nan, 'transaction.datetime': datetime.datetime(2020, 3, 29, 18, 53), 'transaction': {'payment_mode': 'Cash'}}\n",
      "{'transaction.category': 'grocery', 'transaction.sub_category': 'all', 'transaction.direction': 'DEBIT', 'transaction.service_provider': nan, 'event.name': nan, 'transaction.comment': nan, 'transaction.datetime': datetime.datetime(2020, 3, 29, 18, 53), 'transaction': {'merchant': 'Drdo'}}\n",
      "{'transaction.sub_category': 'all', 'transaction.direction': 'DEBIT', 'transaction.service_provider': nan, 'event.name': nan, 'transaction.comment': nan, 'transaction.datetime': datetime.datetime(2020, 3, 29, 18, 53), 'transaction': {'category': 'grocery'}}\n",
      "{'transaction.direction': 'DEBIT', 'transaction.service_provider': nan, 'event.name': nan, 'transaction.comment': nan, 'transaction.datetime': datetime.datetime(2020, 3, 29, 18, 53), 'transaction': {'sub_category': 'all'}}\n",
      "{'transaction.service_provider': nan, 'event.name': nan, 'transaction.comment': nan, 'transaction.datetime': datetime.datetime(2020, 3, 29, 18, 53), 'transaction': {'direction': 'DEBIT'}}\n",
      "{'event.name': nan, 'transaction.comment': nan, 'transaction.datetime': datetime.datetime(2020, 3, 29, 18, 53), 'transaction': {'service_provider': nan}}\n",
      "{'transaction.comment': nan, 'transaction.datetime': datetime.datetime(2020, 3, 29, 18, 53), 'transaction': {'service_provider': nan}, 'event': {'name': nan}}\n",
      "{'transaction.datetime': datetime.datetime(2020, 3, 29, 18, 53), 'transaction': {'comment': nan}, 'event': {'name': nan}}\n",
      "{'transaction': {'datetime': datetime.datetime(2020, 3, 29, 18, 53)}, 'event': {'name': nan}}\n",
      "{'transaction': {'datetime': datetime.datetime(2020, 3, 29, 18, 53)}, 'event': {'name': nan}}\n",
      "{'transaction': {'datetime': datetime.datetime(2020, 3, 29, 18, 53)}, 'event': {'name': nan}, '_id': ObjectId('5e84a2f2e0428e02c2b4e988')}\n",
      "5e84a2f2e0428e02c2b4e988\n",
      "{'transaction.expense_amount': 1610.0, 'transaction.payment_mode': 'Citibank', 'transaction.merchant': 'www.bigbasket.', 'transaction.category': 'grocery', 'transaction.sub_category': 'all', 'transaction.direction': 'DEBIT', 'transaction.service_provider': nan, 'event.name': nan, 'transaction.comment': nan, 'transaction.datetime': datetime.datetime(2020, 3, 1, 19, 43, 31)}\n",
      "{'transaction.payment_mode': 'Citibank', 'transaction.merchant': 'www.bigbasket.', 'transaction.category': 'grocery', 'transaction.sub_category': 'all', 'transaction.direction': 'DEBIT', 'transaction.service_provider': nan, 'event.name': nan, 'transaction.comment': nan, 'transaction.datetime': datetime.datetime(2020, 3, 1, 19, 43, 31), 'transaction': {'expense_amount': 1610.0}}\n",
      "{'transaction.merchant': 'www.bigbasket.', 'transaction.category': 'grocery', 'transaction.sub_category': 'all', 'transaction.direction': 'DEBIT', 'transaction.service_provider': nan, 'event.name': nan, 'transaction.comment': nan, 'transaction.datetime': datetime.datetime(2020, 3, 1, 19, 43, 31), 'transaction': {'payment_mode': 'Citibank'}}\n",
      "{'transaction.category': 'grocery', 'transaction.sub_category': 'all', 'transaction.direction': 'DEBIT', 'transaction.service_provider': nan, 'event.name': nan, 'transaction.comment': nan, 'transaction.datetime': datetime.datetime(2020, 3, 1, 19, 43, 31), 'transaction': {'merchant': 'www.bigbasket.'}}\n",
      "{'transaction.sub_category': 'all', 'transaction.direction': 'DEBIT', 'transaction.service_provider': nan, 'event.name': nan, 'transaction.comment': nan, 'transaction.datetime': datetime.datetime(2020, 3, 1, 19, 43, 31), 'transaction': {'category': 'grocery'}}\n",
      "{'transaction.direction': 'DEBIT', 'transaction.service_provider': nan, 'event.name': nan, 'transaction.comment': nan, 'transaction.datetime': datetime.datetime(2020, 3, 1, 19, 43, 31), 'transaction': {'sub_category': 'all'}}\n",
      "{'transaction.service_provider': nan, 'event.name': nan, 'transaction.comment': nan, 'transaction.datetime': datetime.datetime(2020, 3, 1, 19, 43, 31), 'transaction': {'direction': 'DEBIT'}}\n",
      "{'event.name': nan, 'transaction.comment': nan, 'transaction.datetime': datetime.datetime(2020, 3, 1, 19, 43, 31), 'transaction': {'service_provider': nan}}\n",
      "{'transaction.comment': nan, 'transaction.datetime': datetime.datetime(2020, 3, 1, 19, 43, 31), 'transaction': {'service_provider': nan}, 'event': {'name': nan}}\n",
      "{'transaction.datetime': datetime.datetime(2020, 3, 1, 19, 43, 31), 'transaction': {'comment': nan}, 'event': {'name': nan}}\n",
      "{'transaction': {'datetime': datetime.datetime(2020, 3, 1, 19, 43, 31)}, 'event': {'name': nan}}\n",
      "{'transaction': {'datetime': datetime.datetime(2020, 3, 1, 19, 43, 31)}, 'event': {'name': nan}}\n",
      "{'transaction': {'datetime': datetime.datetime(2020, 3, 1, 19, 43, 31)}, 'event': {'name': nan}, '_id': ObjectId('5e84a2f2e0428e02c2b4e989')}\n",
      "5e84a2f2e0428e02c2b4e989\n",
      "{'transaction.expense_amount': 550.0, 'transaction.payment_mode': 'XXX983', 'transaction.merchant': 'paytmqr2810050501011f9xdbj3suxl@paytm', 'transaction.category': 'medicine', 'transaction.sub_category': 'medicine', 'transaction.direction': 'DEBIT', 'transaction.service_provider': nan, 'event.name': nan, 'transaction.comment': nan, 'transaction.datetime': datetime.datetime(2020, 3, 23, 0, 0)}\n",
      "{'transaction.payment_mode': 'XXX983', 'transaction.merchant': 'paytmqr2810050501011f9xdbj3suxl@paytm', 'transaction.category': 'medicine', 'transaction.sub_category': 'medicine', 'transaction.direction': 'DEBIT', 'transaction.service_provider': nan, 'event.name': nan, 'transaction.comment': nan, 'transaction.datetime': datetime.datetime(2020, 3, 23, 0, 0), 'transaction': {'expense_amount': 550.0}}\n",
      "{'transaction.merchant': 'paytmqr2810050501011f9xdbj3suxl@paytm', 'transaction.category': 'medicine', 'transaction.sub_category': 'medicine', 'transaction.direction': 'DEBIT', 'transaction.service_provider': nan, 'event.name': nan, 'transaction.comment': nan, 'transaction.datetime': datetime.datetime(2020, 3, 23, 0, 0), 'transaction': {'payment_mode': 'XXX983'}}\n",
      "{'transaction.category': 'medicine', 'transaction.sub_category': 'medicine', 'transaction.direction': 'DEBIT', 'transaction.service_provider': nan, 'event.name': nan, 'transaction.comment': nan, 'transaction.datetime': datetime.datetime(2020, 3, 23, 0, 0), 'transaction': {'merchant': 'paytmqr2810050501011f9xdbj3suxl@paytm'}}\n",
      "{'transaction.sub_category': 'medicine', 'transaction.direction': 'DEBIT', 'transaction.service_provider': nan, 'event.name': nan, 'transaction.comment': nan, 'transaction.datetime': datetime.datetime(2020, 3, 23, 0, 0), 'transaction': {'category': 'medicine'}}\n",
      "{'transaction.direction': 'DEBIT', 'transaction.service_provider': nan, 'event.name': nan, 'transaction.comment': nan, 'transaction.datetime': datetime.datetime(2020, 3, 23, 0, 0), 'transaction': {'sub_category': 'medicine'}}\n",
      "{'transaction.service_provider': nan, 'event.name': nan, 'transaction.comment': nan, 'transaction.datetime': datetime.datetime(2020, 3, 23, 0, 0), 'transaction': {'direction': 'DEBIT'}}\n",
      "{'event.name': nan, 'transaction.comment': nan, 'transaction.datetime': datetime.datetime(2020, 3, 23, 0, 0), 'transaction': {'service_provider': nan}}\n",
      "{'transaction.comment': nan, 'transaction.datetime': datetime.datetime(2020, 3, 23, 0, 0), 'transaction': {'service_provider': nan}, 'event': {'name': nan}}\n",
      "{'transaction.datetime': datetime.datetime(2020, 3, 23, 0, 0), 'transaction': {'comment': nan}, 'event': {'name': nan}}\n",
      "{'transaction': {'datetime': datetime.datetime(2020, 3, 23, 0, 0)}, 'event': {'name': nan}}\n",
      "{'transaction': {'datetime': datetime.datetime(2020, 3, 23, 0, 0)}, 'event': {'name': nan}}\n",
      "{'transaction': {'datetime': datetime.datetime(2020, 3, 23, 0, 0)}, 'event': {'name': nan}, '_id': ObjectId('5e84a2f2e0428e02c2b4e98a')}\n",
      "5e84a2f2e0428e02c2b4e98a\n",
      "{'transaction.expense_amount': 160.0, 'transaction.payment_mode': 'Cash', 'transaction.merchant': 'Newspaper', 'transaction.category': 'utility', 'transaction.sub_category': 'newspaper', 'transaction.direction': 'DEBIT', 'transaction.service_provider': nan, 'event.name': nan, 'transaction.comment': nan, 'transaction.datetime': datetime.datetime(2020, 3, 18, 20, 38, 6)}\n",
      "{'transaction.payment_mode': 'Cash', 'transaction.merchant': 'Newspaper', 'transaction.category': 'utility', 'transaction.sub_category': 'newspaper', 'transaction.direction': 'DEBIT', 'transaction.service_provider': nan, 'event.name': nan, 'transaction.comment': nan, 'transaction.datetime': datetime.datetime(2020, 3, 18, 20, 38, 6), 'transaction': {'expense_amount': 160.0}}\n",
      "{'transaction.merchant': 'Newspaper', 'transaction.category': 'utility', 'transaction.sub_category': 'newspaper', 'transaction.direction': 'DEBIT', 'transaction.service_provider': nan, 'event.name': nan, 'transaction.comment': nan, 'transaction.datetime': datetime.datetime(2020, 3, 18, 20, 38, 6), 'transaction': {'payment_mode': 'Cash'}}\n",
      "{'transaction.category': 'utility', 'transaction.sub_category': 'newspaper', 'transaction.direction': 'DEBIT', 'transaction.service_provider': nan, 'event.name': nan, 'transaction.comment': nan, 'transaction.datetime': datetime.datetime(2020, 3, 18, 20, 38, 6), 'transaction': {'merchant': 'Newspaper'}}\n",
      "{'transaction.sub_category': 'newspaper', 'transaction.direction': 'DEBIT', 'transaction.service_provider': nan, 'event.name': nan, 'transaction.comment': nan, 'transaction.datetime': datetime.datetime(2020, 3, 18, 20, 38, 6), 'transaction': {'category': 'utility'}}\n",
      "{'transaction.direction': 'DEBIT', 'transaction.service_provider': nan, 'event.name': nan, 'transaction.comment': nan, 'transaction.datetime': datetime.datetime(2020, 3, 18, 20, 38, 6), 'transaction': {'sub_category': 'newspaper'}}\n",
      "{'transaction.service_provider': nan, 'event.name': nan, 'transaction.comment': nan, 'transaction.datetime': datetime.datetime(2020, 3, 18, 20, 38, 6), 'transaction': {'direction': 'DEBIT'}}\n",
      "{'event.name': nan, 'transaction.comment': nan, 'transaction.datetime': datetime.datetime(2020, 3, 18, 20, 38, 6), 'transaction': {'service_provider': nan}}\n",
      "{'transaction.comment': nan, 'transaction.datetime': datetime.datetime(2020, 3, 18, 20, 38, 6), 'transaction': {'service_provider': nan}, 'event': {'name': nan}}\n",
      "{'transaction.datetime': datetime.datetime(2020, 3, 18, 20, 38, 6), 'transaction': {'comment': nan}, 'event': {'name': nan}}\n",
      "{'transaction': {'datetime': datetime.datetime(2020, 3, 18, 20, 38, 6)}, 'event': {'name': nan}}\n",
      "{'transaction': {'datetime': datetime.datetime(2020, 3, 18, 20, 38, 6)}, 'event': {'name': nan}}\n",
      "{'transaction': {'datetime': datetime.datetime(2020, 3, 18, 20, 38, 6)}, 'event': {'name': nan}, '_id': ObjectId('5e84a2f2e0428e02c2b4e98b')}\n",
      "5e84a2f2e0428e02c2b4e98b\n",
      "{'transaction.expense_amount': 2500.0, 'transaction.payment_mode': 'CASH', 'transaction.merchant': nan, 'transaction.category': 'utility', 'transaction.sub_category': 'Maid', 'transaction.direction': 'DEBIT', 'transaction.service_provider': nan, 'event.name': nan, 'transaction.comment': nan, 'transaction.datetime': datetime.datetime(2020, 3, 20, 20, 38, 6)}\n",
      "{'transaction.payment_mode': 'CASH', 'transaction.merchant': nan, 'transaction.category': 'utility', 'transaction.sub_category': 'Maid', 'transaction.direction': 'DEBIT', 'transaction.service_provider': nan, 'event.name': nan, 'transaction.comment': nan, 'transaction.datetime': datetime.datetime(2020, 3, 20, 20, 38, 6), 'transaction': {'expense_amount': 2500.0}}\n",
      "{'transaction.merchant': nan, 'transaction.category': 'utility', 'transaction.sub_category': 'Maid', 'transaction.direction': 'DEBIT', 'transaction.service_provider': nan, 'event.name': nan, 'transaction.comment': nan, 'transaction.datetime': datetime.datetime(2020, 3, 20, 20, 38, 6), 'transaction': {'payment_mode': 'CASH'}}\n",
      "{'transaction.category': 'utility', 'transaction.sub_category': 'Maid', 'transaction.direction': 'DEBIT', 'transaction.service_provider': nan, 'event.name': nan, 'transaction.comment': nan, 'transaction.datetime': datetime.datetime(2020, 3, 20, 20, 38, 6), 'transaction': {'merchant': nan}}\n",
      "{'transaction.sub_category': 'Maid', 'transaction.direction': 'DEBIT', 'transaction.service_provider': nan, 'event.name': nan, 'transaction.comment': nan, 'transaction.datetime': datetime.datetime(2020, 3, 20, 20, 38, 6), 'transaction': {'category': 'utility'}}\n",
      "{'transaction.direction': 'DEBIT', 'transaction.service_provider': nan, 'event.name': nan, 'transaction.comment': nan, 'transaction.datetime': datetime.datetime(2020, 3, 20, 20, 38, 6), 'transaction': {'sub_category': 'Maid'}}\n",
      "{'transaction.service_provider': nan, 'event.name': nan, 'transaction.comment': nan, 'transaction.datetime': datetime.datetime(2020, 3, 20, 20, 38, 6), 'transaction': {'direction': 'DEBIT'}}\n",
      "{'event.name': nan, 'transaction.comment': nan, 'transaction.datetime': datetime.datetime(2020, 3, 20, 20, 38, 6), 'transaction': {'service_provider': nan}}\n",
      "{'transaction.comment': nan, 'transaction.datetime': datetime.datetime(2020, 3, 20, 20, 38, 6), 'transaction': {'service_provider': nan}, 'event': {'name': nan}}\n",
      "{'transaction.datetime': datetime.datetime(2020, 3, 20, 20, 38, 6), 'transaction': {'comment': nan}, 'event': {'name': nan}}\n",
      "{'transaction': {'datetime': datetime.datetime(2020, 3, 20, 20, 38, 6)}, 'event': {'name': nan}}\n",
      "{'transaction': {'datetime': datetime.datetime(2020, 3, 20, 20, 38, 6)}, 'event': {'name': nan}}\n"
     ]
    },
    {
     "name": "stdout",
     "output_type": "stream",
     "text": [
      "{'transaction': {'datetime': datetime.datetime(2020, 3, 20, 20, 38, 6)}, 'event': {'name': nan}, '_id': ObjectId('5e84a2f2e0428e02c2b4e98c')}\n",
      "5e84a2f2e0428e02c2b4e98c\n"
     ]
    }
   ],
   "source": [
    "for i in range(count):\n",
    "    d = dict_from_idx(csvdf, i, keys)\n",
    "    date = d.pop('transaction.datetime')\n",
    "    _id = d.pop('_id')\n",
    "    if type(_id) != str and math.isnan(float(_id)):\n",
    "        d.update({'transaction.datetime':  parser.parse(date)})\n",
    "        print(d)\n",
    "        for key in list(d.keys()):\n",
    "            _keys = key.split('.')\n",
    "            if len(_keys) == 2:\n",
    "                val = d.pop(key)\n",
    "                d.update({_keys[0]: {_keys[1]: val}})\n",
    "                print(d)\n",
    "        print(d)        \n",
    "        _id = collection.insert_one(d).inserted_id\n",
    "        print(d)\n",
    "#     else:\n",
    "#         collection.update_one({'_id': bson.ObjectId(_id)}, {'$set': d}, upsert = False)\n",
    "        print(_id)\n",
    "#     print(d)\n",
    "        "
   ]
  },
  {
   "cell_type": "code",
   "execution_count": 44,
   "metadata": {},
   "outputs": [
    {
     "data": {
      "text/plain": [
       "1"
      ]
     },
     "execution_count": 44,
     "metadata": {},
     "output_type": "execute_result"
    }
   ],
   "source": [
    "d = {'a': 1, 'b': 2}\n",
    "d.pop('a')"
   ]
  },
  {
   "cell_type": "code",
   "execution_count": 61,
   "metadata": {},
   "outputs": [],
   "source": [
    "d.update({'a': 2})"
   ]
  },
  {
   "cell_type": "code",
   "execution_count": 62,
   "metadata": {},
   "outputs": [
    {
     "data": {
      "text/plain": [
       "{'transaction.expense_amount': 500.0,\n",
       " 'transaction.payment_mode': 'CREDIT Card xx3690',\n",
       " 'transaction.merchant': 'Akshayakalpa',\n",
       " 'transaction.category': 'None',\n",
       " 'transaction.sub_category': 'None',\n",
       " 'transaction.direction': 'TRANSFER',\n",
       " 'transaction.service_provider': nan,\n",
       " 'event.name': nan,\n",
       " 'transaction.comment': nan,\n",
       " 'a': 2}"
      ]
     },
     "execution_count": 62,
     "metadata": {},
     "output_type": "execute_result"
    }
   ],
   "source": [
    "d"
   ]
  },
  {
   "cell_type": "code",
   "execution_count": 64,
   "metadata": {},
   "outputs": [],
   "source": [
    "d0 = dict_from_idx(csvdf, 0, keys)\n",
    "date0 = d0.pop('transaction.datetime')\n",
    "_id0 = d0.pop('_id')"
   ]
  },
  {
   "cell_type": "code",
   "execution_count": 69,
   "metadata": {},
   "outputs": [
    {
     "data": {
      "text/plain": [
       "{'transaction.expense_amount': 240.0,\n",
       " 'transaction.payment_mode': 'Akshayakalpa Wallet',\n",
       " 'transaction.merchant': 'Akshayakalpa',\n",
       " 'transaction.category': 'grocery',\n",
       " 'transaction.sub_category': 'diary',\n",
       " 'transaction.direction': 'DEBIT',\n",
       " 'transaction.service_provider': nan,\n",
       " 'event.name': nan,\n",
       " 'transaction.comment': nan,\n",
       " 'a': 1}"
      ]
     },
     "execution_count": 69,
     "metadata": {},
     "output_type": "execute_result"
    }
   ],
   "source": [
    "d0.update({'a': 1})\n",
    "d0"
   ]
  },
  {
   "cell_type": "code",
   "execution_count": 78,
   "metadata": {},
   "outputs": [],
   "source": [
    "c = collection.update_one({'_id': bson.ObjectId(_id0)}, {'$set': d0}, upsert = False)"
   ]
  },
  {
   "cell_type": "code",
   "execution_count": 79,
   "metadata": {},
   "outputs": [
    {
     "data": {
      "text/plain": [
       "'5e80d16248a45dfa05b4e711'"
      ]
     },
     "execution_count": 79,
     "metadata": {},
     "output_type": "execute_result"
    }
   ],
   "source": [
    "_id0"
   ]
  },
  {
   "cell_type": "code",
   "execution_count": 80,
   "metadata": {},
   "outputs": [
    {
     "data": {
      "text/plain": [
       "1"
      ]
     },
     "execution_count": 80,
     "metadata": {},
     "output_type": "execute_result"
    }
   ],
   "source": [
    "c.matched_count"
   ]
  },
  {
   "cell_type": "code",
   "execution_count": 81,
   "metadata": {},
   "outputs": [
    {
     "data": {
      "text/plain": [
       "{'transaction.expense_amount': 240.0,\n",
       " 'transaction.payment_mode': 'Akshayakalpa Wallet',\n",
       " 'transaction.merchant': 'Akshayakalpa',\n",
       " 'transaction.category': 'grocery',\n",
       " 'transaction.sub_category': 'diary',\n",
       " 'transaction.direction': 'DEBIT',\n",
       " 'transaction.service_provider': nan,\n",
       " 'event.name': nan,\n",
       " 'transaction.comment': nan,\n",
       " 'a': 1}"
      ]
     },
     "execution_count": 81,
     "metadata": {},
     "output_type": "execute_result"
    }
   ],
   "source": [
    "d0"
   ]
  },
  {
   "cell_type": "code",
   "execution_count": null,
   "metadata": {},
   "outputs": [],
   "source": [
    "from dateutil import parser"
   ]
  }
 ],
 "metadata": {
  "kernelspec": {
   "display_name": "Python 3",
   "language": "python",
   "name": "python3"
  },
  "language_info": {
   "codemirror_mode": {
    "name": "ipython",
    "version": 3
   },
   "file_extension": ".py",
   "mimetype": "text/x-python",
   "name": "python",
   "nbconvert_exporter": "python",
   "pygments_lexer": "ipython3",
   "version": "3.7.4"
  }
 },
 "nbformat": 4,
 "nbformat_minor": 4
}
